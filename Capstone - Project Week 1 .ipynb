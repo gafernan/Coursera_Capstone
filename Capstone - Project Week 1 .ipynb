{
    "cells": [
        {
            "metadata": {},
            "cell_type": "markdown",
            "source": "# Import packages for HTML ,parsing and JSON files"
        },
        {
            "metadata": {},
            "cell_type": "code",
            "source": "from bs4 import BeautifulSoup",
            "execution_count": 1,
            "outputs": []
        },
        {
            "metadata": {},
            "cell_type": "code",
            "source": "import numpy as np # library to handle data in a vectorized manner\nimport pandas as pd # library for data analsysis\nimport json # library to handle JSON files\nimport requests # library to handle JSON requests\nfrom pandas.io.json import json_normalize\n",
            "execution_count": 2,
            "outputs": []
        },
        {
            "metadata": {},
            "cell_type": "markdown",
            "source": "# Importing Data from website"
        },
        {
            "metadata": {},
            "cell_type": "code",
            "source": "url = \"https://en.wikipedia.org/wiki/List_of_postal_codes_of_Canada:_M\"\nsource = requests.get(url).text\nCanada_view = BeautifulSoup(source, 'html.parser')",
            "execution_count": 3,
            "outputs": []
        },
        {
            "metadata": {},
            "cell_type": "markdown",
            "source": "# Creating a dataframe from website"
        },
        {
            "metadata": {},
            "cell_type": "code",
            "source": "table_df = Canada_view.find('table', {'class': 'wikitable sortable'})",
            "execution_count": 4,
            "outputs": []
        },
        {
            "metadata": {},
            "cell_type": "code",
            "source": "column_names = ['PostalCode','Borough','Neighborhood']\ncanada_df = pd.read_html(str(table_df), skiprows=1)\ncanada_df = pd.DataFrame.from_dict(canada_df[0])\ncanada_df.columns = column_names\ncanada_df.head()",
            "execution_count": 5,
            "outputs": [
                {
                    "output_type": "execute_result",
                    "execution_count": 5,
                    "data": {
                        "text/plain": "  PostalCode           Borough      Neighborhood\n0        M2A      Not assigned      Not assigned\n1        M3A        North York         Parkwoods\n2        M4A        North York  Victoria Village\n3        M5A  Downtown Toronto      Harbourfront\n4        M6A        North York  Lawrence Heights",
                        "text/html": "<div>\n<style scoped>\n    .dataframe tbody tr th:only-of-type {\n        vertical-align: middle;\n    }\n\n    .dataframe tbody tr th {\n        vertical-align: top;\n    }\n\n    .dataframe thead th {\n        text-align: right;\n    }\n</style>\n<table border=\"1\" class=\"dataframe\">\n  <thead>\n    <tr style=\"text-align: right;\">\n      <th></th>\n      <th>PostalCode</th>\n      <th>Borough</th>\n      <th>Neighborhood</th>\n    </tr>\n  </thead>\n  <tbody>\n    <tr>\n      <th>0</th>\n      <td>M2A</td>\n      <td>Not assigned</td>\n      <td>Not assigned</td>\n    </tr>\n    <tr>\n      <th>1</th>\n      <td>M3A</td>\n      <td>North York</td>\n      <td>Parkwoods</td>\n    </tr>\n    <tr>\n      <th>2</th>\n      <td>M4A</td>\n      <td>North York</td>\n      <td>Victoria Village</td>\n    </tr>\n    <tr>\n      <th>3</th>\n      <td>M5A</td>\n      <td>Downtown Toronto</td>\n      <td>Harbourfront</td>\n    </tr>\n    <tr>\n      <th>4</th>\n      <td>M6A</td>\n      <td>North York</td>\n      <td>Lawrence Heights</td>\n    </tr>\n  </tbody>\n</table>\n</div>"
                    },
                    "metadata": {}
                }
            ]
        },
        {
            "metadata": {},
            "cell_type": "markdown",
            "source": "# Import Canada Dataframe"
        },
        {
            "metadata": {},
            "cell_type": "code",
            "source": "canada_df = canada_df[canada_df.Borough != 'Not assigned'].reset_index(drop=True)\ncanada_df.head()",
            "execution_count": 6,
            "outputs": [
                {
                    "output_type": "execute_result",
                    "execution_count": 6,
                    "data": {
                        "text/plain": "  PostalCode           Borough      Neighborhood\n0        M3A        North York         Parkwoods\n1        M4A        North York  Victoria Village\n2        M5A  Downtown Toronto      Harbourfront\n3        M6A        North York  Lawrence Heights\n4        M6A        North York    Lawrence Manor",
                        "text/html": "<div>\n<style scoped>\n    .dataframe tbody tr th:only-of-type {\n        vertical-align: middle;\n    }\n\n    .dataframe tbody tr th {\n        vertical-align: top;\n    }\n\n    .dataframe thead th {\n        text-align: right;\n    }\n</style>\n<table border=\"1\" class=\"dataframe\">\n  <thead>\n    <tr style=\"text-align: right;\">\n      <th></th>\n      <th>PostalCode</th>\n      <th>Borough</th>\n      <th>Neighborhood</th>\n    </tr>\n  </thead>\n  <tbody>\n    <tr>\n      <th>0</th>\n      <td>M3A</td>\n      <td>North York</td>\n      <td>Parkwoods</td>\n    </tr>\n    <tr>\n      <th>1</th>\n      <td>M4A</td>\n      <td>North York</td>\n      <td>Victoria Village</td>\n    </tr>\n    <tr>\n      <th>2</th>\n      <td>M5A</td>\n      <td>Downtown Toronto</td>\n      <td>Harbourfront</td>\n    </tr>\n    <tr>\n      <th>3</th>\n      <td>M6A</td>\n      <td>North York</td>\n      <td>Lawrence Heights</td>\n    </tr>\n    <tr>\n      <th>4</th>\n      <td>M6A</td>\n      <td>North York</td>\n      <td>Lawrence Manor</td>\n    </tr>\n  </tbody>\n</table>\n</div>"
                    },
                    "metadata": {}
                }
            ]
        },
        {
            "metadata": {},
            "cell_type": "code",
            "source": "def collate(series):\n    return series.str.cat(sep=', ')\n\ncanadacode_df = canada_df.groupby([\"PostalCode\", \"Borough\"])\ncanada_df = canadacode_df.agg({'Neighborhood': collate}).reset_index()\ncanada_df.head()",
            "execution_count": 7,
            "outputs": [
                {
                    "output_type": "execute_result",
                    "execution_count": 7,
                    "data": {
                        "text/plain": "  PostalCode      Borough                            Neighborhood\n0        M1B  Scarborough                          Rouge, Malvern\n1        M1C  Scarborough  Highland Creek, Rouge Hill, Port Union\n2        M1E  Scarborough       Guildwood, Morningside, West Hill\n3        M1G  Scarborough                                  Woburn\n4        M1H  Scarborough                               Cedarbrae",
                        "text/html": "<div>\n<style scoped>\n    .dataframe tbody tr th:only-of-type {\n        vertical-align: middle;\n    }\n\n    .dataframe tbody tr th {\n        vertical-align: top;\n    }\n\n    .dataframe thead th {\n        text-align: right;\n    }\n</style>\n<table border=\"1\" class=\"dataframe\">\n  <thead>\n    <tr style=\"text-align: right;\">\n      <th></th>\n      <th>PostalCode</th>\n      <th>Borough</th>\n      <th>Neighborhood</th>\n    </tr>\n  </thead>\n  <tbody>\n    <tr>\n      <th>0</th>\n      <td>M1B</td>\n      <td>Scarborough</td>\n      <td>Rouge, Malvern</td>\n    </tr>\n    <tr>\n      <th>1</th>\n      <td>M1C</td>\n      <td>Scarborough</td>\n      <td>Highland Creek, Rouge Hill, Port Union</td>\n    </tr>\n    <tr>\n      <th>2</th>\n      <td>M1E</td>\n      <td>Scarborough</td>\n      <td>Guildwood, Morningside, West Hill</td>\n    </tr>\n    <tr>\n      <th>3</th>\n      <td>M1G</td>\n      <td>Scarborough</td>\n      <td>Woburn</td>\n    </tr>\n    <tr>\n      <th>4</th>\n      <td>M1H</td>\n      <td>Scarborough</td>\n      <td>Cedarbrae</td>\n    </tr>\n  </tbody>\n</table>\n</div>"
                    },
                    "metadata": {}
                }
            ]
        },
        {
            "metadata": {},
            "cell_type": "code",
            "source": "def impute(row):\n    if row['Neighborhood'] == 'Not assigned':\n        row['Neighborhood'] = row['Borough']\n    \n    return row\n\ncanada_df = canada_df.apply(impute, axis=1)\ncanada_df.head()",
            "execution_count": 9,
            "outputs": [
                {
                    "output_type": "execute_result",
                    "execution_count": 9,
                    "data": {
                        "text/plain": "  PostalCode      Borough                            Neighborhood\n0        M1B  Scarborough                          Rouge, Malvern\n1        M1C  Scarborough  Highland Creek, Rouge Hill, Port Union\n2        M1E  Scarborough       Guildwood, Morningside, West Hill\n3        M1G  Scarborough                                  Woburn\n4        M1H  Scarborough                               Cedarbrae",
                        "text/html": "<div>\n<style scoped>\n    .dataframe tbody tr th:only-of-type {\n        vertical-align: middle;\n    }\n\n    .dataframe tbody tr th {\n        vertical-align: top;\n    }\n\n    .dataframe thead th {\n        text-align: right;\n    }\n</style>\n<table border=\"1\" class=\"dataframe\">\n  <thead>\n    <tr style=\"text-align: right;\">\n      <th></th>\n      <th>PostalCode</th>\n      <th>Borough</th>\n      <th>Neighborhood</th>\n    </tr>\n  </thead>\n  <tbody>\n    <tr>\n      <th>0</th>\n      <td>M1B</td>\n      <td>Scarborough</td>\n      <td>Rouge, Malvern</td>\n    </tr>\n    <tr>\n      <th>1</th>\n      <td>M1C</td>\n      <td>Scarborough</td>\n      <td>Highland Creek, Rouge Hill, Port Union</td>\n    </tr>\n    <tr>\n      <th>2</th>\n      <td>M1E</td>\n      <td>Scarborough</td>\n      <td>Guildwood, Morningside, West Hill</td>\n    </tr>\n    <tr>\n      <th>3</th>\n      <td>M1G</td>\n      <td>Scarborough</td>\n      <td>Woburn</td>\n    </tr>\n    <tr>\n      <th>4</th>\n      <td>M1H</td>\n      <td>Scarborough</td>\n      <td>Cedarbrae</td>\n    </tr>\n  </tbody>\n</table>\n</div>"
                    },
                    "metadata": {}
                }
            ]
        },
        {
            "metadata": {},
            "cell_type": "code",
            "source": "canada_df.shape",
            "execution_count": 8,
            "outputs": [
                {
                    "output_type": "execute_result",
                    "execution_count": 8,
                    "data": {
                        "text/plain": "(103, 3)"
                    },
                    "metadata": {}
                }
            ]
        },
        {
            "metadata": {},
            "cell_type": "markdown",
            "source": "# Import Latitude and Longitude Data"
        },
        {
            "metadata": {},
            "cell_type": "code",
            "source": "!wget -q -O 'toronto_data.csv' https://cocl.us/Geospatial_data   # Download data from site as csv format\nprint('Data downloaded!')",
            "execution_count": 9,
            "outputs": [
                {
                    "output_type": "stream",
                    "text": "Data downloaded!\n",
                    "name": "stdout"
                }
            ]
        },
        {
            "metadata": {},
            "cell_type": "code",
            "source": "toronto_df = pd.read_csv('toronto_data.csv') # convert csv file to dataframe\ntoronto_df.rename(columns={'Postal Code':'PostalCode'}, inplace=True)\ntoronto_df.head()\n",
            "execution_count": 10,
            "outputs": [
                {
                    "output_type": "execute_result",
                    "execution_count": 10,
                    "data": {
                        "text/plain": "  PostalCode   Latitude  Longitude\n0        M1B  43.806686 -79.194353\n1        M1C  43.784535 -79.160497\n2        M1E  43.763573 -79.188711\n3        M1G  43.770992 -79.216917\n4        M1H  43.773136 -79.239476",
                        "text/html": "<div>\n<style scoped>\n    .dataframe tbody tr th:only-of-type {\n        vertical-align: middle;\n    }\n\n    .dataframe tbody tr th {\n        vertical-align: top;\n    }\n\n    .dataframe thead th {\n        text-align: right;\n    }\n</style>\n<table border=\"1\" class=\"dataframe\">\n  <thead>\n    <tr style=\"text-align: right;\">\n      <th></th>\n      <th>PostalCode</th>\n      <th>Latitude</th>\n      <th>Longitude</th>\n    </tr>\n  </thead>\n  <tbody>\n    <tr>\n      <th>0</th>\n      <td>M1B</td>\n      <td>43.806686</td>\n      <td>-79.194353</td>\n    </tr>\n    <tr>\n      <th>1</th>\n      <td>M1C</td>\n      <td>43.784535</td>\n      <td>-79.160497</td>\n    </tr>\n    <tr>\n      <th>2</th>\n      <td>M1E</td>\n      <td>43.763573</td>\n      <td>-79.188711</td>\n    </tr>\n    <tr>\n      <th>3</th>\n      <td>M1G</td>\n      <td>43.770992</td>\n      <td>-79.216917</td>\n    </tr>\n    <tr>\n      <th>4</th>\n      <td>M1H</td>\n      <td>43.773136</td>\n      <td>-79.239476</td>\n    </tr>\n  </tbody>\n</table>\n</div>"
                    },
                    "metadata": {}
                }
            ]
        },
        {
            "metadata": {},
            "cell_type": "markdown",
            "source": "# Merge Dataframes"
        },
        {
            "metadata": {},
            "cell_type": "code",
            "source": "toronto_new_df = pd.merge(canada_df, toronto_df, left_on='PostalCode', right_on='PostalCode', how='left') # join the two dataframes by postal code\ntoronto_new_df.head()",
            "execution_count": 11,
            "outputs": [
                {
                    "output_type": "execute_result",
                    "execution_count": 11,
                    "data": {
                        "text/plain": "  PostalCode      Borough                            Neighborhood   Latitude  \\\n0        M1B  Scarborough                          Rouge, Malvern  43.806686   \n1        M1C  Scarborough  Highland Creek, Rouge Hill, Port Union  43.784535   \n2        M1E  Scarborough       Guildwood, Morningside, West Hill  43.763573   \n3        M1G  Scarborough                                  Woburn  43.770992   \n4        M1H  Scarborough                               Cedarbrae  43.773136   \n\n   Longitude  \n0 -79.194353  \n1 -79.160497  \n2 -79.188711  \n3 -79.216917  \n4 -79.239476  ",
                        "text/html": "<div>\n<style scoped>\n    .dataframe tbody tr th:only-of-type {\n        vertical-align: middle;\n    }\n\n    .dataframe tbody tr th {\n        vertical-align: top;\n    }\n\n    .dataframe thead th {\n        text-align: right;\n    }\n</style>\n<table border=\"1\" class=\"dataframe\">\n  <thead>\n    <tr style=\"text-align: right;\">\n      <th></th>\n      <th>PostalCode</th>\n      <th>Borough</th>\n      <th>Neighborhood</th>\n      <th>Latitude</th>\n      <th>Longitude</th>\n    </tr>\n  </thead>\n  <tbody>\n    <tr>\n      <th>0</th>\n      <td>M1B</td>\n      <td>Scarborough</td>\n      <td>Rouge, Malvern</td>\n      <td>43.806686</td>\n      <td>-79.194353</td>\n    </tr>\n    <tr>\n      <th>1</th>\n      <td>M1C</td>\n      <td>Scarborough</td>\n      <td>Highland Creek, Rouge Hill, Port Union</td>\n      <td>43.784535</td>\n      <td>-79.160497</td>\n    </tr>\n    <tr>\n      <th>2</th>\n      <td>M1E</td>\n      <td>Scarborough</td>\n      <td>Guildwood, Morningside, West Hill</td>\n      <td>43.763573</td>\n      <td>-79.188711</td>\n    </tr>\n    <tr>\n      <th>3</th>\n      <td>M1G</td>\n      <td>Scarborough</td>\n      <td>Woburn</td>\n      <td>43.770992</td>\n      <td>-79.216917</td>\n    </tr>\n    <tr>\n      <th>4</th>\n      <td>M1H</td>\n      <td>Scarborough</td>\n      <td>Cedarbrae</td>\n      <td>43.773136</td>\n      <td>-79.239476</td>\n    </tr>\n  </tbody>\n</table>\n</div>"
                    },
                    "metadata": {}
                }
            ]
        },
        {
            "metadata": {},
            "cell_type": "code",
            "source": "!conda install -c conda-forge geocoder --yes  \nimport geocoder # import geocoder\n\n!conda install -c conda-forge geopy --yes\nfrom geopy.geocoders import Nominatim \n\n# Matplotlib and associated plotting modules\nimport matplotlib.cm as cm\nimport matplotlib.colors as colors\n\n# import k-means from clustering stage\nfrom sklearn.cluster import KMeans\n\n!conda install -c conda-forge folium=0.5.0 --yes \nimport folium # map rendering library",
            "execution_count": 12,
            "outputs": [
                {
                    "output_type": "stream",
                    "text": "Solving environment: done\n\n## Package Plan ##\n\n  environment location: /opt/conda/envs/Python36\n\n  added / updated specs: \n    - geocoder\n\n\nThe following packages will be downloaded:\n\n    package                    |            build\n    ---------------------------|-----------------\n    ca-certificates-2019.11.28 |       hecc5488_0         145 KB  conda-forge\n    openssl-1.1.1d             |       h516909a_0         2.1 MB  conda-forge\n    ratelim-0.1.6              |             py_2           6 KB  conda-forge\n    geocoder-1.38.1            |             py_1          53 KB  conda-forge\n    certifi-2019.11.28         |           py36_0         149 KB  conda-forge\n    ------------------------------------------------------------\n                                           Total:         2.4 MB\n\nThe following NEW packages will be INSTALLED:\n\n    geocoder:        1.38.1-py_1       conda-forge\n    ratelim:         0.1.6-py_2        conda-forge\n\nThe following packages will be UPDATED:\n\n    ca-certificates: 2019.10.16-0                  --> 2019.11.28-hecc5488_0 conda-forge\n    certifi:         2019.9.11-py36_0              --> 2019.11.28-py36_0     conda-forge\n\nThe following packages will be DOWNGRADED:\n\n    openssl:         1.1.1d-h7b6447c_3             --> 1.1.1d-h516909a_0     conda-forge\n\n\nDownloading and Extracting Packages\nca-certificates-2019 | 145 KB    | ##################################### | 100% \nopenssl-1.1.1d       | 2.1 MB    | ##################################### | 100% \nratelim-0.1.6        | 6 KB      | ##################################### | 100% \ngeocoder-1.38.1      | 53 KB     | ##################################### | 100% \ncertifi-2019.11.28   | 149 KB    | ##################################### | 100% \nPreparing transaction: done\nVerifying transaction: done\nExecuting transaction: done\nSolving environment: done\n\n## Package Plan ##\n\n  environment location: /opt/conda/envs/Python36\n\n  added / updated specs: \n    - geopy\n\n\nThe following packages will be downloaded:\n\n    package                    |            build\n    ---------------------------|-----------------\n    geographiclib-1.50         |             py_0          34 KB  conda-forge\n    geopy-1.20.0               |             py_0          57 KB  conda-forge\n    ------------------------------------------------------------\n                                           Total:          91 KB\n\nThe following NEW packages will be INSTALLED:\n\n    geographiclib: 1.50-py_0   conda-forge\n    geopy:         1.20.0-py_0 conda-forge\n\n\nDownloading and Extracting Packages\ngeographiclib-1.50   | 34 KB     | ##################################### | 100% \ngeopy-1.20.0         | 57 KB     | ##################################### | 100% \nPreparing transaction: done\nVerifying transaction: done\nExecuting transaction: done\nSolving environment: done\n\n## Package Plan ##\n\n  environment location: /opt/conda/envs/Python36\n\n  added / updated specs: \n    - folium=0.5.0\n\n\nThe following packages will be downloaded:\n\n    package                    |            build\n    ---------------------------|-----------------\n    folium-0.5.0               |             py_0          45 KB  conda-forge\n    branca-0.3.1               |             py_0          25 KB  conda-forge\n    altair-3.3.0               |           py36_0         747 KB  conda-forge\n    vincent-0.4.4              |             py_1          28 KB  conda-forge\n    ------------------------------------------------------------\n                                           Total:         846 KB\n\nThe following NEW packages will be INSTALLED:\n\n    altair:  3.3.0-py36_0 conda-forge\n    branca:  0.3.1-py_0   conda-forge\n    folium:  0.5.0-py_0   conda-forge\n    vincent: 0.4.4-py_1   conda-forge\n\n\nDownloading and Extracting Packages\nfolium-0.5.0         | 45 KB     | ##################################### | 100% \nbranca-0.3.1         | 25 KB     | ##################################### | 100% \naltair-3.3.0         | 747 KB    | ##################################### | 100% \nvincent-0.4.4        | 28 KB     | ##################################### | 100% \nPreparing transaction: done\nVerifying transaction: done\nExecuting transaction: done\n",
                    "name": "stdout"
                }
            ]
        },
        {
            "metadata": {},
            "cell_type": "markdown",
            "source": "# Problem Statement : To Ascertain which Borough in Toronto is the best place to open a resturant"
        },
        {
            "metadata": {},
            "cell_type": "markdown",
            "source": "# Import the groraphical coordinates of Toronto"
        },
        {
            "metadata": {},
            "cell_type": "code",
            "source": "address = 'Toronto, ON'\ngeolocator = Nominatim(user_agent=\"toronto_explorer\")\nlocation = geolocator.geocode(address)\nlatitude = location.latitude\nlongitude = location.longitude\nprint('The geograpical coordinate of Toronto are {}, {}.'.format(latitude, longitude))",
            "execution_count": 13,
            "outputs": [
                {
                    "output_type": "stream",
                    "text": "The geograpical coordinate of Toronto are 43.653963, -79.387207.\n",
                    "name": "stdout"
                }
            ]
        },
        {
            "metadata": {},
            "cell_type": "markdown",
            "source": "Import Foursqaure API login Credentials"
        },
        {
            "metadata": {},
            "cell_type": "code",
            "source": "CLIENT_ID = 'B2U1CZARFPRTJSOPL00IKR2T4UJQNVKPL3TVIOVMOTJQ5BKF' # Add your Foursquare ID\nCLIENT_SECRET = 'KXMDGKFPHLCMM1D3RCS0QNSDN3R4UYXRJS15YAWLMAHP3XQF' # Add your Foursquare Secret\nVERSION = '20190501' # Foursquare API version\n\nprint('Your credentails:')\nprint('CLIENT_ID: ' + CLIENT_ID)\nprint('CLIENT_SECRET:' + CLIENT_SECRET)",
            "execution_count": 14,
            "outputs": [
                {
                    "output_type": "stream",
                    "text": "Your credentails:\nCLIENT_ID: B2U1CZARFPRTJSOPL00IKR2T4UJQNVKPL3TVIOVMOTJQ5BKF\nCLIENT_SECRET:KXMDGKFPHLCMM1D3RCS0QNSDN3R4UYXRJS15YAWLMAHP3XQF\n",
                    "name": "stdout"
                }
            ]
        },
        {
            "metadata": {},
            "cell_type": "markdown",
            "source": ""
        },
        {
            "metadata": {},
            "cell_type": "markdown",
            "source": "Import all Boroughs in Canada"
        },
        {
            "metadata": {},
            "cell_type": "code",
            "source": "toronto_new_df.head(5)",
            "execution_count": 15,
            "outputs": [
                {
                    "output_type": "execute_result",
                    "execution_count": 15,
                    "data": {
                        "text/plain": "  PostalCode      Borough                            Neighborhood   Latitude  \\\n0        M1B  Scarborough                          Rouge, Malvern  43.806686   \n1        M1C  Scarborough  Highland Creek, Rouge Hill, Port Union  43.784535   \n2        M1E  Scarborough       Guildwood, Morningside, West Hill  43.763573   \n3        M1G  Scarborough                                  Woburn  43.770992   \n4        M1H  Scarborough                               Cedarbrae  43.773136   \n\n   Longitude  \n0 -79.194353  \n1 -79.160497  \n2 -79.188711  \n3 -79.216917  \n4 -79.239476  ",
                        "text/html": "<div>\n<style scoped>\n    .dataframe tbody tr th:only-of-type {\n        vertical-align: middle;\n    }\n\n    .dataframe tbody tr th {\n        vertical-align: top;\n    }\n\n    .dataframe thead th {\n        text-align: right;\n    }\n</style>\n<table border=\"1\" class=\"dataframe\">\n  <thead>\n    <tr style=\"text-align: right;\">\n      <th></th>\n      <th>PostalCode</th>\n      <th>Borough</th>\n      <th>Neighborhood</th>\n      <th>Latitude</th>\n      <th>Longitude</th>\n    </tr>\n  </thead>\n  <tbody>\n    <tr>\n      <th>0</th>\n      <td>M1B</td>\n      <td>Scarborough</td>\n      <td>Rouge, Malvern</td>\n      <td>43.806686</td>\n      <td>-79.194353</td>\n    </tr>\n    <tr>\n      <th>1</th>\n      <td>M1C</td>\n      <td>Scarborough</td>\n      <td>Highland Creek, Rouge Hill, Port Union</td>\n      <td>43.784535</td>\n      <td>-79.160497</td>\n    </tr>\n    <tr>\n      <th>2</th>\n      <td>M1E</td>\n      <td>Scarborough</td>\n      <td>Guildwood, Morningside, West Hill</td>\n      <td>43.763573</td>\n      <td>-79.188711</td>\n    </tr>\n    <tr>\n      <th>3</th>\n      <td>M1G</td>\n      <td>Scarborough</td>\n      <td>Woburn</td>\n      <td>43.770992</td>\n      <td>-79.216917</td>\n    </tr>\n    <tr>\n      <th>4</th>\n      <td>M1H</td>\n      <td>Scarborough</td>\n      <td>Cedarbrae</td>\n      <td>43.773136</td>\n      <td>-79.239476</td>\n    </tr>\n  </tbody>\n</table>\n</div>"
                    },
                    "metadata": {}
                }
            ]
        },
        {
            "metadata": {},
            "cell_type": "code",
            "source": "# type your answer here\nLIMIT = 100 # limit of number of venues returned by Foursquare API\nradius = 600 # define radius\ntoronto_latitude = toronto_new_df['Latitude'][0]\ntoronto_longitude = toronto_new_df['Longitude'][0]\nurl = \"https://api.foursquare.com/v2/venues/explore?&client_id=B2U1CZARFPRTJSOPL00IKR2T4UJQNVKPL3TVIOVMOTJQ5BKF&client_secret=KXMDGKFPHLCMM1D3RCS0QNSDN3R4UYXRJS15YAWLMAHP3XQF&v=20190501&ll= 43.653963,-79.387207&radius=200&limit=100\".format(\n    CLIENT_ID, \n    CLIENT_SECRET, \n    VERSION, \n    toronto_latitude, \n    toronto_longitude, \n    radius, \n    LIMIT)\n\n\n",
            "execution_count": 16,
            "outputs": []
        },
        {
            "metadata": {},
            "cell_type": "code",
            "source": "url",
            "execution_count": 17,
            "outputs": [
                {
                    "output_type": "execute_result",
                    "execution_count": 17,
                    "data": {
                        "text/plain": "'https://api.foursquare.com/v2/venues/explore?&client_id=B2U1CZARFPRTJSOPL00IKR2T4UJQNVKPL3TVIOVMOTJQ5BKF&client_secret=KXMDGKFPHLCMM1D3RCS0QNSDN3R4UYXRJS15YAWLMAHP3XQF&v=20190501&ll= 43.653963,-79.387207&radius=200&limit=100'"
                    },
                    "metadata": {}
                }
            ]
        },
        {
            "metadata": {},
            "cell_type": "code",
            "source": "results = requests.get(url).json()\nresults",
            "execution_count": 18,
            "outputs": [
                {
                    "output_type": "execute_result",
                    "execution_count": 18,
                    "data": {
                        "text/plain": "{'meta': {'code': 200, 'requestId': '5de9f54229ce6a001b803989'},\n 'response': {'headerLocation': 'Bay Street Corridor',\n  'headerFullLocation': 'Bay Street Corridor, Toronto',\n  'headerLocationGranularity': 'neighborhood',\n  'totalResults': 7,\n  'suggestedBounds': {'ne': {'lat': 43.6557630018, 'lng': -79.3847238123363},\n   'sw': {'lat': 43.6521629982, 'lng': -79.3896901876637}},\n  'groups': [{'type': 'Recommended Places',\n    'name': 'recommended',\n    'items': [{'reasons': {'count': 0,\n       'items': [{'summary': 'This spot is popular',\n         'type': 'general',\n         'reasonName': 'globalInteractionReason'}]},\n      'venue': {'id': '5227bb01498e17bf485e6202',\n       'name': 'Downtown Toronto',\n       'location': {'lat': 43.65323167517444,\n        'lng': -79.38529600606677,\n        'labeledLatLngs': [{'label': 'display',\n          'lat': 43.65323167517444,\n          'lng': -79.38529600606677}],\n        'distance': 174,\n        'cc': 'CA',\n        'city': 'Toronto',\n        'state': 'ON',\n        'country': 'Canada',\n        'formattedAddress': ['Toronto ON', 'Canada']},\n       'categories': [{'id': '4f2a25ac4b909258e854f55f',\n         'name': 'Neighborhood',\n         'pluralName': 'Neighborhoods',\n         'shortName': 'Neighborhood',\n         'icon': {'prefix': 'https://ss3.4sqi.net/img/categories_v2/parks_outdoors/neighborhood_',\n          'suffix': '.png'},\n         'primary': True}],\n       'photos': {'count': 0, 'groups': []}},\n      'referralId': 'e-0-5227bb01498e17bf485e6202-0'},\n     {'reasons': {'count': 0,\n       'items': [{'summary': 'This spot is popular',\n         'type': 'general',\n         'reasonName': 'globalInteractionReason'}]},\n      'venue': {'id': '4f513029e4b07c3382c9fdb9',\n       'name': 'Cafe Plenty',\n       'location': {'address': '250 Dundas Street West',\n        'crossStreet': 'Simcoe Street',\n        'lat': 43.65457125894357,\n        'lng': -79.38944976536852,\n        'labeledLatLngs': [{'label': 'display',\n          'lat': 43.65457125894357,\n          'lng': -79.38944976536852}],\n        'distance': 192,\n        'postalCode': 'M5T 2Z5',\n        'cc': 'CA',\n        'city': 'Toronto',\n        'state': 'ON',\n        'country': 'Canada',\n        'formattedAddress': ['250 Dundas Street West (Simcoe Street)',\n         'Toronto ON M5T 2Z5',\n         'Canada']},\n       'categories': [{'id': '4bf58dd8d48988d16d941735',\n         'name': 'Caf\u00e9',\n         'pluralName': 'Caf\u00e9s',\n         'shortName': 'Caf\u00e9',\n         'icon': {'prefix': 'https://ss3.4sqi.net/img/categories_v2/food/cafe_',\n          'suffix': '.png'},\n         'primary': True}],\n       'photos': {'count': 0, 'groups': []}},\n      'referralId': 'e-0-4f513029e4b07c3382c9fdb9-1'},\n     {'reasons': {'count': 0,\n       'items': [{'summary': 'This spot is popular',\n         'type': 'general',\n         'reasonName': 'globalInteractionReason'}]},\n      'venue': {'id': '5773f01f498e98371390bdfd',\n       'name': 'Rolltation',\n       'location': {'address': '207 Dundas St W',\n        'crossStreet': 'at University Ave',\n        'lat': 43.65491791857301,\n        'lng': -79.3874242454196,\n        'labeledLatLngs': [{'label': 'display',\n          'lat': 43.65491791857301,\n          'lng': -79.3874242454196}],\n        'distance': 107,\n        'postalCode': 'M5G 1C8',\n        'cc': 'CA',\n        'city': 'Toronto',\n        'state': 'ON',\n        'country': 'Canada',\n        'formattedAddress': ['207 Dundas St W (at University Ave)',\n         'Toronto ON M5G 1C8',\n         'Canada']},\n       'categories': [{'id': '4bf58dd8d48988d111941735',\n         'name': 'Japanese Restaurant',\n         'pluralName': 'Japanese Restaurants',\n         'shortName': 'Japanese',\n         'icon': {'prefix': 'https://ss3.4sqi.net/img/categories_v2/food/japanese_',\n          'suffix': '.png'},\n         'primary': True}],\n       'photos': {'count': 0, 'groups': []}},\n      'referralId': 'e-0-5773f01f498e98371390bdfd-2'},\n     {'reasons': {'count': 0,\n       'items': [{'summary': 'This spot is popular',\n         'type': 'general',\n         'reasonName': 'globalInteractionReason'}]},\n      'venue': {'id': '504bbf2ce4b0168121235cbe',\n       'name': 'Sansotei Ramen \u4e09\u8349\u4ead',\n       'location': {'address': '179 Dundas St. W',\n        'crossStreet': 'btwn Centre Ave. & Chestnut St.',\n        'lat': 43.655157467561246,\n        'lng': -79.38650067479335,\n        'labeledLatLngs': [{'label': 'display',\n          'lat': 43.655157467561246,\n          'lng': -79.38650067479335}],\n        'distance': 144,\n        'postalCode': 'M5G 1Z8',\n        'cc': 'CA',\n        'city': 'Toronto',\n        'state': 'ON',\n        'country': 'Canada',\n        'formattedAddress': ['179 Dundas St. W (btwn Centre Ave. & Chestnut St.)',\n         'Toronto ON M5G 1Z8',\n         'Canada']},\n       'categories': [{'id': '55a59bace4b013909087cb24',\n         'name': 'Ramen Restaurant',\n         'pluralName': 'Ramen Restaurants',\n         'shortName': 'Ramen',\n         'icon': {'prefix': 'https://ss3.4sqi.net/img/categories_v2/food/ramen_',\n          'suffix': '.png'},\n         'primary': True}],\n       'photos': {'count': 0, 'groups': []}},\n      'referralId': 'e-0-504bbf2ce4b0168121235cbe-3'},\n     {'reasons': {'count': 0,\n       'items': [{'summary': 'This spot is popular',\n         'type': 'general',\n         'reasonName': 'globalInteractionReason'}]},\n      'venue': {'id': '57745cb8498ef903ab623cca',\n       'name': 'Fugo Desserts',\n       'location': {'address': '205 Dundas Street W',\n        'crossStreet': 'at University Ave',\n        'lat': 43.654922556722134,\n        'lng': -79.38738186530605,\n        'labeledLatLngs': [{'label': 'display',\n          'lat': 43.654922556722134,\n          'lng': -79.38738186530605}],\n        'distance': 107,\n        'cc': 'CA',\n        'city': 'Toronto',\n        'state': 'ON',\n        'country': 'Canada',\n        'formattedAddress': ['205 Dundas Street W (at University Ave)',\n         'Toronto ON',\n         'Canada']},\n       'categories': [{'id': '4bf58dd8d48988d1c9941735',\n         'name': 'Ice Cream Shop',\n         'pluralName': 'Ice Cream Shops',\n         'shortName': 'Ice Cream',\n         'icon': {'prefix': 'https://ss3.4sqi.net/img/categories_v2/food/icecream_',\n          'suffix': '.png'},\n         'primary': True}],\n       'photos': {'count': 0, 'groups': []}},\n      'referralId': 'e-0-57745cb8498ef903ab623cca-4'},\n     {'reasons': {'count': 0,\n       'items': [{'summary': 'This spot is popular',\n         'type': 'general',\n         'reasonName': 'globalInteractionReason'}]},\n      'venue': {'id': '53451cff498e555a4e340937',\n       'name': 'doubletree fitness center (Doubletree Fitness Centre)',\n       'location': {'address': '108 Chestnut Street',\n        'crossStreet': 'Dundas St W',\n        'lat': 43.65460313972433,\n        'lng': -79.38620388507843,\n        'labeledLatLngs': [{'label': 'display',\n          'lat': 43.65460313972433,\n          'lng': -79.38620388507843}],\n        'distance': 107,\n        'postalCode': 'M5G 1R3',\n        'cc': 'CA',\n        'city': 'Toronto',\n        'state': 'ON',\n        'country': 'Canada',\n        'formattedAddress': ['108 Chestnut Street (Dundas St W)',\n         'Toronto ON M5G 1R3',\n         'Canada']},\n       'categories': [{'id': '4bf58dd8d48988d175941735',\n         'name': 'Gym / Fitness Center',\n         'pluralName': 'Gyms or Fitness Centers',\n         'shortName': 'Gym / Fitness',\n         'icon': {'prefix': 'https://ss3.4sqi.net/img/categories_v2/building/gym_',\n          'suffix': '.png'},\n         'primary': True}],\n       'photos': {'count': 0, 'groups': []}},\n      'referralId': 'e-0-53451cff498e555a4e340937-5'},\n     {'reasons': {'count': 0,\n       'items': [{'summary': 'This spot is popular',\n         'type': 'general',\n         'reasonName': 'globalInteractionReason'}]},\n      'venue': {'id': '52ce14b0498e50457ce11780',\n       'name': 'DoubleTree by Hilton Hotel Toronto Downtown',\n       'location': {'address': '108 Chestnut Street',\n        'crossStreet': 'Dundas St W',\n        'lat': 43.6546083,\n        'lng': -79.3859415,\n        'labeledLatLngs': [{'label': 'display',\n          'lat': 43.6546083,\n          'lng': -79.3859415}],\n        'distance': 124,\n        'postalCode': 'M5G 1R3',\n        'cc': 'CA',\n        'city': 'Toronto',\n        'state': 'ON',\n        'country': 'Canada',\n        'formattedAddress': ['108 Chestnut Street (Dundas St W)',\n         'Toronto ON M5G 1R3',\n         'Canada']},\n       'categories': [{'id': '4bf58dd8d48988d1fa931735',\n         'name': 'Hotel',\n         'pluralName': 'Hotels',\n         'shortName': 'Hotel',\n         'icon': {'prefix': 'https://ss3.4sqi.net/img/categories_v2/travel/hotel_',\n          'suffix': '.png'},\n         'primary': True}],\n       'photos': {'count': 0, 'groups': []}},\n      'referralId': 'e-0-52ce14b0498e50457ce11780-6'}]}]}}"
                    },
                    "metadata": {}
                }
            ]
        },
        {
            "metadata": {},
            "cell_type": "code",
            "source": "def get_category_type(row):\n    try:\n        categories_list = row['categories']\n    except:\n        categories_list = row['venue.categories']\n        \n    if len(categories_list) == 0:\n        return None\n    else:\n        return categories_list[0]['name']",
            "execution_count": 19,
            "outputs": []
        },
        {
            "metadata": {},
            "cell_type": "markdown",
            "source": "Explore venues for toronto neighborhood"
        },
        {
            "metadata": {},
            "cell_type": "code",
            "source": "venues = results['response']['groups'][0]['items']\n    \nnearby_venues = json_normalize(venues) # flatten JSON\n\n# filter columns\nfiltered_columns = ['venue.name', 'venue.categories', 'venue.location.lat', 'venue.location.lng']\nnearby_venues =nearby_venues.loc[:, filtered_columns]\n\n# filter the category for each row\nnearby_venues['venue.categories'] = nearby_venues.apply(get_category_type, axis=1)\n\n# clean columns\nnearby_venues.columns = [col.split(\".\")[-1] for col in nearby_venues.columns]\n\nnearby_venues.head()",
            "execution_count": 20,
            "outputs": [
                {
                    "output_type": "execute_result",
                    "execution_count": 20,
                    "data": {
                        "text/plain": "                 name           categories        lat        lng\n0    Downtown Toronto         Neighborhood  43.653232 -79.385296\n1         Cafe Plenty                 Caf\u00e9  43.654571 -79.389450\n2          Rolltation  Japanese Restaurant  43.654918 -79.387424\n3  Sansotei Ramen \u4e09\u8349\u4ead     Ramen Restaurant  43.655157 -79.386501\n4       Fugo Desserts       Ice Cream Shop  43.654923 -79.387382",
                        "text/html": "<div>\n<style scoped>\n    .dataframe tbody tr th:only-of-type {\n        vertical-align: middle;\n    }\n\n    .dataframe tbody tr th {\n        vertical-align: top;\n    }\n\n    .dataframe thead th {\n        text-align: right;\n    }\n</style>\n<table border=\"1\" class=\"dataframe\">\n  <thead>\n    <tr style=\"text-align: right;\">\n      <th></th>\n      <th>name</th>\n      <th>categories</th>\n      <th>lat</th>\n      <th>lng</th>\n    </tr>\n  </thead>\n  <tbody>\n    <tr>\n      <th>0</th>\n      <td>Downtown Toronto</td>\n      <td>Neighborhood</td>\n      <td>43.653232</td>\n      <td>-79.385296</td>\n    </tr>\n    <tr>\n      <th>1</th>\n      <td>Cafe Plenty</td>\n      <td>Caf\u00e9</td>\n      <td>43.654571</td>\n      <td>-79.389450</td>\n    </tr>\n    <tr>\n      <th>2</th>\n      <td>Rolltation</td>\n      <td>Japanese Restaurant</td>\n      <td>43.654918</td>\n      <td>-79.387424</td>\n    </tr>\n    <tr>\n      <th>3</th>\n      <td>Sansotei Ramen \u4e09\u8349\u4ead</td>\n      <td>Ramen Restaurant</td>\n      <td>43.655157</td>\n      <td>-79.386501</td>\n    </tr>\n    <tr>\n      <th>4</th>\n      <td>Fugo Desserts</td>\n      <td>Ice Cream Shop</td>\n      <td>43.654923</td>\n      <td>-79.387382</td>\n    </tr>\n  </tbody>\n</table>\n</div>"
                    },
                    "metadata": {}
                }
            ]
        },
        {
            "metadata": {},
            "cell_type": "code",
            "source": "print('{} venues were returned by Foursquare.'.format(nearby_venues.shape[0]))",
            "execution_count": 21,
            "outputs": [
                {
                    "output_type": "stream",
                    "text": "7 venues were returned by Foursquare.\n",
                    "name": "stdout"
                }
            ]
        },
        {
            "metadata": {},
            "cell_type": "markdown",
            "source": "explore venues that contain the word toronto"
        },
        {
            "metadata": {},
            "cell_type": "code",
            "source": "def getNearbyVenues(names, latitudes, longitudes, radius=500):\n    \n    venues_list=[]\n    for name, lat, lng in zip(names, latitudes, longitudes):\n    \n            \n#create the API request URL\n        url = \"https://api.foursquare.com/v2/venues/explore?&client_id={}&client_secret={}&v={}&ll={},{}&radius={}&limit={}\".format(\n            CLIENT_ID, \n            CLIENT_SECRET, \n            VERSION, \n            lat, \n            lng, \n            radius, \n            LIMIT)\n#make the GET request\n        results = requests.get(url).json()[\"response\"]['groups'][0]['items']\n        \n# return only relevant information for each nearby venue\n        venues_list.append([(name, \n            lat, \n            lng, \n            v['venue']['name'], \n            v['venue']['location']['lat'], \n            v['venue']['location']['lng'],  \n            v['venue']['categories'][0]['name']) for v in results])\n\n    nearby_venues = pd.DataFrame([item for venue_list in venues_list for item in venue_list])\n    nearby_venues.columns = ['Places', \n                  'toronto Latitude', \n                  'toronto Longitude', \n                  'Venue', \n                  'Venue Latitude', \n                  'Venue Longitude', \n                  'Venue Category']\n    \n    return(nearby_venues)",
            "execution_count": 25,
            "outputs": []
        },
        {
            "metadata": {},
            "cell_type": "code",
            "source": "toronto_data = toronto_new_df[toronto_new_df['Borough'].str.contains('Toronto')].reset_index(drop=True)\ntoronto_data.head()",
            "execution_count": 26,
            "outputs": [
                {
                    "output_type": "execute_result",
                    "execution_count": 26,
                    "data": {
                        "text/plain": "  PostalCode          Borough                    Neighborhood   Latitude  \\\n0        M4E     East Toronto                     The Beaches  43.676357   \n1        M4K     East Toronto    The Danforth West, Riverdale  43.679557   \n2        M4L     East Toronto  The Beaches West, India Bazaar  43.668999   \n3        M4M     East Toronto                 Studio District  43.659526   \n4        M4N  Central Toronto                   Lawrence Park  43.728020   \n\n   Longitude  \n0 -79.293031  \n1 -79.352188  \n2 -79.315572  \n3 -79.340923  \n4 -79.388790  ",
                        "text/html": "<div>\n<style scoped>\n    .dataframe tbody tr th:only-of-type {\n        vertical-align: middle;\n    }\n\n    .dataframe tbody tr th {\n        vertical-align: top;\n    }\n\n    .dataframe thead th {\n        text-align: right;\n    }\n</style>\n<table border=\"1\" class=\"dataframe\">\n  <thead>\n    <tr style=\"text-align: right;\">\n      <th></th>\n      <th>PostalCode</th>\n      <th>Borough</th>\n      <th>Neighborhood</th>\n      <th>Latitude</th>\n      <th>Longitude</th>\n    </tr>\n  </thead>\n  <tbody>\n    <tr>\n      <th>0</th>\n      <td>M4E</td>\n      <td>East Toronto</td>\n      <td>The Beaches</td>\n      <td>43.676357</td>\n      <td>-79.293031</td>\n    </tr>\n    <tr>\n      <th>1</th>\n      <td>M4K</td>\n      <td>East Toronto</td>\n      <td>The Danforth West, Riverdale</td>\n      <td>43.679557</td>\n      <td>-79.352188</td>\n    </tr>\n    <tr>\n      <th>2</th>\n      <td>M4L</td>\n      <td>East Toronto</td>\n      <td>The Beaches West, India Bazaar</td>\n      <td>43.668999</td>\n      <td>-79.315572</td>\n    </tr>\n    <tr>\n      <th>3</th>\n      <td>M4M</td>\n      <td>East Toronto</td>\n      <td>Studio District</td>\n      <td>43.659526</td>\n      <td>-79.340923</td>\n    </tr>\n    <tr>\n      <th>4</th>\n      <td>M4N</td>\n      <td>Central Toronto</td>\n      <td>Lawrence Park</td>\n      <td>43.728020</td>\n      <td>-79.388790</td>\n    </tr>\n  </tbody>\n</table>\n</div>"
                    },
                    "metadata": {}
                }
            ]
        },
        {
            "metadata": {},
            "cell_type": "code",
            "source": "toronto_venues = getNearbyVenues(names=toronto_data['Neighborhood'],\n                                   latitudes=toronto_data['Latitude'],\n                                   longitudes=toronto_data['Longitude']\n                                )",
            "execution_count": 30,
            "outputs": []
        },
        {
            "metadata": {},
            "cell_type": "code",
            "source": "toronto_venues.head()\n",
            "execution_count": 32,
            "outputs": [
                {
                    "output_type": "execute_result",
                    "execution_count": 32,
                    "data": {
                        "text/plain": "        Places  toronto Latitude  toronto Longitude  \\\n0  The Beaches         43.676357         -79.293031   \n1  The Beaches         43.676357         -79.293031   \n2  The Beaches         43.676357         -79.293031   \n3  The Beaches         43.676357         -79.293031   \n4  The Beaches         43.676357         -79.293031   \n\n                                Venue  Venue Latitude  Venue Longitude  \\\n0                   Glen Manor Ravine       43.676821       -79.293942   \n1  The Big Carrot Natural Food Market       43.678879       -79.297734   \n2                 Grover Pub and Grub       43.679181       -79.297215   \n3                       Upper Beaches       43.680563       -79.292869   \n4                          Dip 'n Sip       43.678897       -79.297745   \n\n      Venue Category  \n0              Trail  \n1  Health Food Store  \n2                Pub  \n3       Neighborhood  \n4        Coffee Shop  ",
                        "text/html": "<div>\n<style scoped>\n    .dataframe tbody tr th:only-of-type {\n        vertical-align: middle;\n    }\n\n    .dataframe tbody tr th {\n        vertical-align: top;\n    }\n\n    .dataframe thead th {\n        text-align: right;\n    }\n</style>\n<table border=\"1\" class=\"dataframe\">\n  <thead>\n    <tr style=\"text-align: right;\">\n      <th></th>\n      <th>Places</th>\n      <th>toronto Latitude</th>\n      <th>toronto Longitude</th>\n      <th>Venue</th>\n      <th>Venue Latitude</th>\n      <th>Venue Longitude</th>\n      <th>Venue Category</th>\n    </tr>\n  </thead>\n  <tbody>\n    <tr>\n      <th>0</th>\n      <td>The Beaches</td>\n      <td>43.676357</td>\n      <td>-79.293031</td>\n      <td>Glen Manor Ravine</td>\n      <td>43.676821</td>\n      <td>-79.293942</td>\n      <td>Trail</td>\n    </tr>\n    <tr>\n      <th>1</th>\n      <td>The Beaches</td>\n      <td>43.676357</td>\n      <td>-79.293031</td>\n      <td>The Big Carrot Natural Food Market</td>\n      <td>43.678879</td>\n      <td>-79.297734</td>\n      <td>Health Food Store</td>\n    </tr>\n    <tr>\n      <th>2</th>\n      <td>The Beaches</td>\n      <td>43.676357</td>\n      <td>-79.293031</td>\n      <td>Grover Pub and Grub</td>\n      <td>43.679181</td>\n      <td>-79.297215</td>\n      <td>Pub</td>\n    </tr>\n    <tr>\n      <th>3</th>\n      <td>The Beaches</td>\n      <td>43.676357</td>\n      <td>-79.293031</td>\n      <td>Upper Beaches</td>\n      <td>43.680563</td>\n      <td>-79.292869</td>\n      <td>Neighborhood</td>\n    </tr>\n    <tr>\n      <th>4</th>\n      <td>The Beaches</td>\n      <td>43.676357</td>\n      <td>-79.293031</td>\n      <td>Dip 'n Sip</td>\n      <td>43.678897</td>\n      <td>-79.297745</td>\n      <td>Coffee Shop</td>\n    </tr>\n  </tbody>\n</table>\n</div>"
                    },
                    "metadata": {}
                }
            ]
        },
        {
            "metadata": {},
            "cell_type": "code",
            "source": "print(toronto_venues.shape)\ntoronto_venues.head()",
            "execution_count": 33,
            "outputs": [
                {
                    "output_type": "stream",
                    "text": "(1686, 7)\n",
                    "name": "stdout"
                },
                {
                    "output_type": "execute_result",
                    "execution_count": 33,
                    "data": {
                        "text/plain": "        Places  toronto Latitude  toronto Longitude  \\\n0  The Beaches         43.676357         -79.293031   \n1  The Beaches         43.676357         -79.293031   \n2  The Beaches         43.676357         -79.293031   \n3  The Beaches         43.676357         -79.293031   \n4  The Beaches         43.676357         -79.293031   \n\n                                Venue  Venue Latitude  Venue Longitude  \\\n0                   Glen Manor Ravine       43.676821       -79.293942   \n1  The Big Carrot Natural Food Market       43.678879       -79.297734   \n2                 Grover Pub and Grub       43.679181       -79.297215   \n3                       Upper Beaches       43.680563       -79.292869   \n4                          Dip 'n Sip       43.678897       -79.297745   \n\n      Venue Category  \n0              Trail  \n1  Health Food Store  \n2                Pub  \n3       Neighborhood  \n4        Coffee Shop  ",
                        "text/html": "<div>\n<style scoped>\n    .dataframe tbody tr th:only-of-type {\n        vertical-align: middle;\n    }\n\n    .dataframe tbody tr th {\n        vertical-align: top;\n    }\n\n    .dataframe thead th {\n        text-align: right;\n    }\n</style>\n<table border=\"1\" class=\"dataframe\">\n  <thead>\n    <tr style=\"text-align: right;\">\n      <th></th>\n      <th>Places</th>\n      <th>toronto Latitude</th>\n      <th>toronto Longitude</th>\n      <th>Venue</th>\n      <th>Venue Latitude</th>\n      <th>Venue Longitude</th>\n      <th>Venue Category</th>\n    </tr>\n  </thead>\n  <tbody>\n    <tr>\n      <th>0</th>\n      <td>The Beaches</td>\n      <td>43.676357</td>\n      <td>-79.293031</td>\n      <td>Glen Manor Ravine</td>\n      <td>43.676821</td>\n      <td>-79.293942</td>\n      <td>Trail</td>\n    </tr>\n    <tr>\n      <th>1</th>\n      <td>The Beaches</td>\n      <td>43.676357</td>\n      <td>-79.293031</td>\n      <td>The Big Carrot Natural Food Market</td>\n      <td>43.678879</td>\n      <td>-79.297734</td>\n      <td>Health Food Store</td>\n    </tr>\n    <tr>\n      <th>2</th>\n      <td>The Beaches</td>\n      <td>43.676357</td>\n      <td>-79.293031</td>\n      <td>Grover Pub and Grub</td>\n      <td>43.679181</td>\n      <td>-79.297215</td>\n      <td>Pub</td>\n    </tr>\n    <tr>\n      <th>3</th>\n      <td>The Beaches</td>\n      <td>43.676357</td>\n      <td>-79.293031</td>\n      <td>Upper Beaches</td>\n      <td>43.680563</td>\n      <td>-79.292869</td>\n      <td>Neighborhood</td>\n    </tr>\n    <tr>\n      <th>4</th>\n      <td>The Beaches</td>\n      <td>43.676357</td>\n      <td>-79.293031</td>\n      <td>Dip 'n Sip</td>\n      <td>43.678897</td>\n      <td>-79.297745</td>\n      <td>Coffee Shop</td>\n    </tr>\n  </tbody>\n</table>\n</div>"
                    },
                    "metadata": {}
                }
            ]
        },
        {
            "metadata": {},
            "cell_type": "code",
            "source": "toronto_venues.groupby('Places').count().head()",
            "execution_count": 34,
            "outputs": [
                {
                    "output_type": "execute_result",
                    "execution_count": 34,
                    "data": {
                        "text/plain": "                                                    toronto Latitude  \\\nPlaces                                                                 \nAdelaide, King, Richmond                                         100   \nBerczy Park                                                       56   \nBrockton, Exhibition Place, Parkdale Village                      22   \nBusiness Reply Mail Processing Centre 969 Eastern                 17   \nCN Tower, Bathurst Quay, Island airport, Harbou...                18   \n\n                                                    toronto Longitude  Venue  \\\nPlaces                                                                         \nAdelaide, King, Richmond                                          100    100   \nBerczy Park                                                        56     56   \nBrockton, Exhibition Place, Parkdale Village                       22     22   \nBusiness Reply Mail Processing Centre 969 Eastern                  17     17   \nCN Tower, Bathurst Quay, Island airport, Harbou...                 18     18   \n\n                                                    Venue Latitude  \\\nPlaces                                                               \nAdelaide, King, Richmond                                       100   \nBerczy Park                                                     56   \nBrockton, Exhibition Place, Parkdale Village                    22   \nBusiness Reply Mail Processing Centre 969 Eastern               17   \nCN Tower, Bathurst Quay, Island airport, Harbou...              18   \n\n                                                    Venue Longitude  \\\nPlaces                                                                \nAdelaide, King, Richmond                                        100   \nBerczy Park                                                      56   \nBrockton, Exhibition Place, Parkdale Village                     22   \nBusiness Reply Mail Processing Centre 969 Eastern                17   \nCN Tower, Bathurst Quay, Island airport, Harbou...               18   \n\n                                                    Venue Category  \nPlaces                                                              \nAdelaide, King, Richmond                                       100  \nBerczy Park                                                     56  \nBrockton, Exhibition Place, Parkdale Village                    22  \nBusiness Reply Mail Processing Centre 969 Eastern               17  \nCN Tower, Bathurst Quay, Island airport, Harbou...              18  ",
                        "text/html": "<div>\n<style scoped>\n    .dataframe tbody tr th:only-of-type {\n        vertical-align: middle;\n    }\n\n    .dataframe tbody tr th {\n        vertical-align: top;\n    }\n\n    .dataframe thead th {\n        text-align: right;\n    }\n</style>\n<table border=\"1\" class=\"dataframe\">\n  <thead>\n    <tr style=\"text-align: right;\">\n      <th></th>\n      <th>toronto Latitude</th>\n      <th>toronto Longitude</th>\n      <th>Venue</th>\n      <th>Venue Latitude</th>\n      <th>Venue Longitude</th>\n      <th>Venue Category</th>\n    </tr>\n    <tr>\n      <th>Places</th>\n      <th></th>\n      <th></th>\n      <th></th>\n      <th></th>\n      <th></th>\n      <th></th>\n    </tr>\n  </thead>\n  <tbody>\n    <tr>\n      <th>Adelaide, King, Richmond</th>\n      <td>100</td>\n      <td>100</td>\n      <td>100</td>\n      <td>100</td>\n      <td>100</td>\n      <td>100</td>\n    </tr>\n    <tr>\n      <th>Berczy Park</th>\n      <td>56</td>\n      <td>56</td>\n      <td>56</td>\n      <td>56</td>\n      <td>56</td>\n      <td>56</td>\n    </tr>\n    <tr>\n      <th>Brockton, Exhibition Place, Parkdale Village</th>\n      <td>22</td>\n      <td>22</td>\n      <td>22</td>\n      <td>22</td>\n      <td>22</td>\n      <td>22</td>\n    </tr>\n    <tr>\n      <th>Business Reply Mail Processing Centre 969 Eastern</th>\n      <td>17</td>\n      <td>17</td>\n      <td>17</td>\n      <td>17</td>\n      <td>17</td>\n      <td>17</td>\n    </tr>\n    <tr>\n      <th>CN Tower, Bathurst Quay, Island airport, Harbourfront West, King and Spadina, Railway Lands, South Niagara</th>\n      <td>18</td>\n      <td>18</td>\n      <td>18</td>\n      <td>18</td>\n      <td>18</td>\n      <td>18</td>\n    </tr>\n  </tbody>\n</table>\n</div>"
                    },
                    "metadata": {}
                }
            ]
        },
        {
            "metadata": {},
            "cell_type": "code",
            "source": "print('There are {} uniques categories.'.format(len(toronto_venues['Venue Category'].unique())))",
            "execution_count": 35,
            "outputs": [
                {
                    "output_type": "stream",
                    "text": "There are 240 uniques categories.\n",
                    "name": "stdout"
                }
            ]
        },
        {
            "metadata": {},
            "cell_type": "markdown",
            "source": "Segmenting and clustering toronto neighborhoods"
        },
        {
            "metadata": {},
            "cell_type": "code",
            "source": "# one hot encoding\ntoronto_onehot = pd.get_dummies(toronto_venues[['Venue Category']], prefix=\"\", prefix_sep=\"\")\n\n# add neighborhood column back to dataframe\ntoronto_onehot['Places'] = toronto_venues['Places'] \n\n# move neighborhood column to the first column\nfixed_columns = [toronto_onehot.columns[-1]] + list(toronto_onehot.columns[:-1])\ntoronto_onehot = toronto_onehot[fixed_columns]\n\ntoronto_onehot.head()",
            "execution_count": 36,
            "outputs": [
                {
                    "output_type": "execute_result",
                    "execution_count": 36,
                    "data": {
                        "text/plain": "        Places  Afghan Restaurant  Airport  Airport Food Court  Airport Gate  \\\n0  The Beaches                  0        0                   0             0   \n1  The Beaches                  0        0                   0             0   \n2  The Beaches                  0        0                   0             0   \n3  The Beaches                  0        0                   0             0   \n4  The Beaches                  0        0                   0             0   \n\n   Airport Lounge  Airport Service  Airport Terminal  American Restaurant  \\\n0               0                0                 0                    0   \n1               0                0                 0                    0   \n2               0                0                 0                    0   \n3               0                0                 0                    0   \n4               0                0                 0                    0   \n\n   Antique Shop  ...  Thrift / Vintage Store  Toy / Game Store  Trail  \\\n0             0  ...                       0                 0      1   \n1             0  ...                       0                 0      0   \n2             0  ...                       0                 0      0   \n3             0  ...                       0                 0      0   \n4             0  ...                       0                 0      0   \n\n   Train Station  Vegetarian / Vegan Restaurant  Video Game Store  \\\n0              0                              0                 0   \n1              0                              0                 0   \n2              0                              0                 0   \n3              0                              0                 0   \n4              0                              0                 0   \n\n   Vietnamese Restaurant  Wine Bar  Wings Joint  Yoga Studio  \n0                      0         0            0            0  \n1                      0         0            0            0  \n2                      0         0            0            0  \n3                      0         0            0            0  \n4                      0         0            0            0  \n\n[5 rows x 241 columns]",
                        "text/html": "<div>\n<style scoped>\n    .dataframe tbody tr th:only-of-type {\n        vertical-align: middle;\n    }\n\n    .dataframe tbody tr th {\n        vertical-align: top;\n    }\n\n    .dataframe thead th {\n        text-align: right;\n    }\n</style>\n<table border=\"1\" class=\"dataframe\">\n  <thead>\n    <tr style=\"text-align: right;\">\n      <th></th>\n      <th>Places</th>\n      <th>Afghan Restaurant</th>\n      <th>Airport</th>\n      <th>Airport Food Court</th>\n      <th>Airport Gate</th>\n      <th>Airport Lounge</th>\n      <th>Airport Service</th>\n      <th>Airport Terminal</th>\n      <th>American Restaurant</th>\n      <th>Antique Shop</th>\n      <th>...</th>\n      <th>Thrift / Vintage Store</th>\n      <th>Toy / Game Store</th>\n      <th>Trail</th>\n      <th>Train Station</th>\n      <th>Vegetarian / Vegan Restaurant</th>\n      <th>Video Game Store</th>\n      <th>Vietnamese Restaurant</th>\n      <th>Wine Bar</th>\n      <th>Wings Joint</th>\n      <th>Yoga Studio</th>\n    </tr>\n  </thead>\n  <tbody>\n    <tr>\n      <th>0</th>\n      <td>The Beaches</td>\n      <td>0</td>\n      <td>0</td>\n      <td>0</td>\n      <td>0</td>\n      <td>0</td>\n      <td>0</td>\n      <td>0</td>\n      <td>0</td>\n      <td>0</td>\n      <td>...</td>\n      <td>0</td>\n      <td>0</td>\n      <td>1</td>\n      <td>0</td>\n      <td>0</td>\n      <td>0</td>\n      <td>0</td>\n      <td>0</td>\n      <td>0</td>\n      <td>0</td>\n    </tr>\n    <tr>\n      <th>1</th>\n      <td>The Beaches</td>\n      <td>0</td>\n      <td>0</td>\n      <td>0</td>\n      <td>0</td>\n      <td>0</td>\n      <td>0</td>\n      <td>0</td>\n      <td>0</td>\n      <td>0</td>\n      <td>...</td>\n      <td>0</td>\n      <td>0</td>\n      <td>0</td>\n      <td>0</td>\n      <td>0</td>\n      <td>0</td>\n      <td>0</td>\n      <td>0</td>\n      <td>0</td>\n      <td>0</td>\n    </tr>\n    <tr>\n      <th>2</th>\n      <td>The Beaches</td>\n      <td>0</td>\n      <td>0</td>\n      <td>0</td>\n      <td>0</td>\n      <td>0</td>\n      <td>0</td>\n      <td>0</td>\n      <td>0</td>\n      <td>0</td>\n      <td>...</td>\n      <td>0</td>\n      <td>0</td>\n      <td>0</td>\n      <td>0</td>\n      <td>0</td>\n      <td>0</td>\n      <td>0</td>\n      <td>0</td>\n      <td>0</td>\n      <td>0</td>\n    </tr>\n    <tr>\n      <th>3</th>\n      <td>The Beaches</td>\n      <td>0</td>\n      <td>0</td>\n      <td>0</td>\n      <td>0</td>\n      <td>0</td>\n      <td>0</td>\n      <td>0</td>\n      <td>0</td>\n      <td>0</td>\n      <td>...</td>\n      <td>0</td>\n      <td>0</td>\n      <td>0</td>\n      <td>0</td>\n      <td>0</td>\n      <td>0</td>\n      <td>0</td>\n      <td>0</td>\n      <td>0</td>\n      <td>0</td>\n    </tr>\n    <tr>\n      <th>4</th>\n      <td>The Beaches</td>\n      <td>0</td>\n      <td>0</td>\n      <td>0</td>\n      <td>0</td>\n      <td>0</td>\n      <td>0</td>\n      <td>0</td>\n      <td>0</td>\n      <td>0</td>\n      <td>...</td>\n      <td>0</td>\n      <td>0</td>\n      <td>0</td>\n      <td>0</td>\n      <td>0</td>\n      <td>0</td>\n      <td>0</td>\n      <td>0</td>\n      <td>0</td>\n      <td>0</td>\n    </tr>\n  </tbody>\n</table>\n<p>5 rows \u00d7 241 columns</p>\n</div>"
                    },
                    "metadata": {}
                }
            ]
        },
        {
            "metadata": {},
            "cell_type": "code",
            "source": "toronto_grouped = toronto_onehot.groupby('Places').mean().reset_index()\ntoronto_grouped.head()",
            "execution_count": 37,
            "outputs": [
                {
                    "output_type": "execute_result",
                    "execution_count": 37,
                    "data": {
                        "text/plain": "                                              Places  Afghan Restaurant  \\\n0                           Adelaide, King, Richmond                0.0   \n1                                        Berczy Park                0.0   \n2       Brockton, Exhibition Place, Parkdale Village                0.0   \n3  Business Reply Mail Processing Centre 969 Eastern                0.0   \n4  CN Tower, Bathurst Quay, Island airport, Harbo...                0.0   \n\n    Airport  Airport Food Court  Airport Gate  Airport Lounge  \\\n0  0.000000            0.000000      0.000000        0.000000   \n1  0.000000            0.000000      0.000000        0.000000   \n2  0.000000            0.000000      0.000000        0.000000   \n3  0.000000            0.000000      0.000000        0.000000   \n4  0.055556            0.055556      0.055556        0.111111   \n\n   Airport Service  Airport Terminal  American Restaurant  Antique Shop  ...  \\\n0         0.000000          0.000000                 0.02           0.0  ...   \n1         0.000000          0.000000                 0.00           0.0  ...   \n2         0.000000          0.000000                 0.00           0.0  ...   \n3         0.000000          0.000000                 0.00           0.0  ...   \n4         0.166667          0.111111                 0.00           0.0  ...   \n\n   Thrift / Vintage Store  Toy / Game Store  Trail  Train Station  \\\n0                     0.0               0.0    0.0            0.0   \n1                     0.0               0.0    0.0            0.0   \n2                     0.0               0.0    0.0            0.0   \n3                     0.0               0.0    0.0            0.0   \n4                     0.0               0.0    0.0            0.0   \n\n   Vegetarian / Vegan Restaurant  Video Game Store  Vietnamese Restaurant  \\\n0                       0.020000               0.0                    0.0   \n1                       0.017857               0.0                    0.0   \n2                       0.000000               0.0                    0.0   \n3                       0.000000               0.0                    0.0   \n4                       0.000000               0.0                    0.0   \n\n   Wine Bar  Wings Joint  Yoga Studio  \n0      0.01          0.0     0.000000  \n1      0.00          0.0     0.000000  \n2      0.00          0.0     0.000000  \n3      0.00          0.0     0.058824  \n4      0.00          0.0     0.000000  \n\n[5 rows x 241 columns]",
                        "text/html": "<div>\n<style scoped>\n    .dataframe tbody tr th:only-of-type {\n        vertical-align: middle;\n    }\n\n    .dataframe tbody tr th {\n        vertical-align: top;\n    }\n\n    .dataframe thead th {\n        text-align: right;\n    }\n</style>\n<table border=\"1\" class=\"dataframe\">\n  <thead>\n    <tr style=\"text-align: right;\">\n      <th></th>\n      <th>Places</th>\n      <th>Afghan Restaurant</th>\n      <th>Airport</th>\n      <th>Airport Food Court</th>\n      <th>Airport Gate</th>\n      <th>Airport Lounge</th>\n      <th>Airport Service</th>\n      <th>Airport Terminal</th>\n      <th>American Restaurant</th>\n      <th>Antique Shop</th>\n      <th>...</th>\n      <th>Thrift / Vintage Store</th>\n      <th>Toy / Game Store</th>\n      <th>Trail</th>\n      <th>Train Station</th>\n      <th>Vegetarian / Vegan Restaurant</th>\n      <th>Video Game Store</th>\n      <th>Vietnamese Restaurant</th>\n      <th>Wine Bar</th>\n      <th>Wings Joint</th>\n      <th>Yoga Studio</th>\n    </tr>\n  </thead>\n  <tbody>\n    <tr>\n      <th>0</th>\n      <td>Adelaide, King, Richmond</td>\n      <td>0.0</td>\n      <td>0.000000</td>\n      <td>0.000000</td>\n      <td>0.000000</td>\n      <td>0.000000</td>\n      <td>0.000000</td>\n      <td>0.000000</td>\n      <td>0.02</td>\n      <td>0.0</td>\n      <td>...</td>\n      <td>0.0</td>\n      <td>0.0</td>\n      <td>0.0</td>\n      <td>0.0</td>\n      <td>0.020000</td>\n      <td>0.0</td>\n      <td>0.0</td>\n      <td>0.01</td>\n      <td>0.0</td>\n      <td>0.000000</td>\n    </tr>\n    <tr>\n      <th>1</th>\n      <td>Berczy Park</td>\n      <td>0.0</td>\n      <td>0.000000</td>\n      <td>0.000000</td>\n      <td>0.000000</td>\n      <td>0.000000</td>\n      <td>0.000000</td>\n      <td>0.000000</td>\n      <td>0.00</td>\n      <td>0.0</td>\n      <td>...</td>\n      <td>0.0</td>\n      <td>0.0</td>\n      <td>0.0</td>\n      <td>0.0</td>\n      <td>0.017857</td>\n      <td>0.0</td>\n      <td>0.0</td>\n      <td>0.00</td>\n      <td>0.0</td>\n      <td>0.000000</td>\n    </tr>\n    <tr>\n      <th>2</th>\n      <td>Brockton, Exhibition Place, Parkdale Village</td>\n      <td>0.0</td>\n      <td>0.000000</td>\n      <td>0.000000</td>\n      <td>0.000000</td>\n      <td>0.000000</td>\n      <td>0.000000</td>\n      <td>0.000000</td>\n      <td>0.00</td>\n      <td>0.0</td>\n      <td>...</td>\n      <td>0.0</td>\n      <td>0.0</td>\n      <td>0.0</td>\n      <td>0.0</td>\n      <td>0.000000</td>\n      <td>0.0</td>\n      <td>0.0</td>\n      <td>0.00</td>\n      <td>0.0</td>\n      <td>0.000000</td>\n    </tr>\n    <tr>\n      <th>3</th>\n      <td>Business Reply Mail Processing Centre 969 Eastern</td>\n      <td>0.0</td>\n      <td>0.000000</td>\n      <td>0.000000</td>\n      <td>0.000000</td>\n      <td>0.000000</td>\n      <td>0.000000</td>\n      <td>0.000000</td>\n      <td>0.00</td>\n      <td>0.0</td>\n      <td>...</td>\n      <td>0.0</td>\n      <td>0.0</td>\n      <td>0.0</td>\n      <td>0.0</td>\n      <td>0.000000</td>\n      <td>0.0</td>\n      <td>0.0</td>\n      <td>0.00</td>\n      <td>0.0</td>\n      <td>0.058824</td>\n    </tr>\n    <tr>\n      <th>4</th>\n      <td>CN Tower, Bathurst Quay, Island airport, Harbo...</td>\n      <td>0.0</td>\n      <td>0.055556</td>\n      <td>0.055556</td>\n      <td>0.055556</td>\n      <td>0.111111</td>\n      <td>0.166667</td>\n      <td>0.111111</td>\n      <td>0.00</td>\n      <td>0.0</td>\n      <td>...</td>\n      <td>0.0</td>\n      <td>0.0</td>\n      <td>0.0</td>\n      <td>0.0</td>\n      <td>0.000000</td>\n      <td>0.0</td>\n      <td>0.0</td>\n      <td>0.00</td>\n      <td>0.0</td>\n      <td>0.000000</td>\n    </tr>\n  </tbody>\n</table>\n<p>5 rows \u00d7 241 columns</p>\n</div>"
                    },
                    "metadata": {}
                }
            ]
        },
        {
            "metadata": {},
            "cell_type": "code",
            "source": "toronto_onehot.shape",
            "execution_count": 38,
            "outputs": [
                {
                    "output_type": "execute_result",
                    "execution_count": 38,
                    "data": {
                        "text/plain": "(1686, 241)"
                    },
                    "metadata": {}
                }
            ]
        },
        {
            "metadata": {},
            "cell_type": "code",
            "source": "num_top_venues = 5\n\nfor hood in toronto_grouped['Places']:\n    print(\"----\"+hood+\"----\")\n    temp = toronto_grouped[toronto_grouped['Places'] == hood].T.reset_index()\n    temp.columns = ['venue','freq']\n    temp = temp.iloc[1:]\n    temp['freq'] = temp['freq'].astype(float)\n    temp = temp.round({'freq': 2})\n    print(temp.sort_values('freq', ascending=False).reset_index(drop=True).head(num_top_venues))\n    print('\\n')",
            "execution_count": 39,
            "outputs": [
                {
                    "output_type": "stream",
                    "text": "----Adelaide, King, Richmond----\n              venue  freq\n0       Coffee Shop  0.07\n1              Caf\u00e9  0.05\n2        Steakhouse  0.04\n3   Thai Restaurant  0.04\n4  Asian Restaurant  0.03\n\n\n----Berczy Park----\n            venue  freq\n0     Coffee Shop  0.09\n1     Cheese Shop  0.04\n2          Bakery  0.04\n3      Steakhouse  0.04\n4  Farmers Market  0.04\n\n\n----Brockton, Exhibition Place, Parkdale Village----\n                venue  freq\n0      Breakfast Spot  0.09\n1                Caf\u00e9  0.09\n2         Coffee Shop  0.09\n3  Italian Restaurant  0.05\n4             Stadium  0.05\n\n\n----Business Reply Mail Processing Centre 969 Eastern----\n                venue  freq\n0         Yoga Studio  0.06\n1                 Spa  0.06\n2       Garden Center  0.06\n3              Garden  0.06\n4  Light Rail Station  0.06\n\n\n----CN Tower, Bathurst Quay, Island airport, Harbourfront West, King and Spadina, Railway Lands, South Niagara----\n              venue  freq\n0   Airport Service  0.17\n1    Airport Lounge  0.11\n2  Airport Terminal  0.11\n3             Plane  0.06\n4   Harbor / Marina  0.06\n\n\n----Cabbagetown, St. James Town----\n                venue  freq\n0         Coffee Shop  0.07\n1  Italian Restaurant  0.05\n2                Caf\u00e9  0.05\n3          Restaurant  0.05\n4                 Pub  0.05\n\n\n----Central Bay Street----\n                venue  freq\n0         Coffee Shop  0.14\n1  Italian Restaurant  0.05\n2                Caf\u00e9  0.04\n3      Sandwich Place  0.04\n4      Ice Cream Shop  0.04\n\n\n----Chinatown, Grange Park, Kensington Market----\n                venue  freq\n0                Caf\u00e9  0.07\n1                 Bar  0.05\n2              Bakery  0.04\n3  Mexican Restaurant  0.04\n4         Coffee Shop  0.04\n\n\n----Christie----\n               venue  freq\n0               Caf\u00e9  0.18\n1      Grocery Store  0.18\n2               Park  0.12\n3  Convenience Store  0.06\n4         Restaurant  0.06\n\n\n----Church and Wellesley----\n                 venue  freq\n0          Coffee Shop  0.06\n1     Sushi Restaurant  0.06\n2  Japanese Restaurant  0.05\n3              Gay Bar  0.05\n4           Restaurant  0.04\n\n\n----Commerce Court, Victoria Hotel----\n                 venue  freq\n0          Coffee Shop  0.10\n1                 Caf\u00e9  0.07\n2                Hotel  0.06\n3           Restaurant  0.05\n4  American Restaurant  0.04\n\n\n----Davisville----\n            venue  freq\n0    Dessert Shop  0.09\n1     Pizza Place  0.09\n2  Sandwich Place  0.09\n3     Coffee Shop  0.06\n4            Caf\u00e9  0.06\n\n\n----Davisville North----\n            venue  freq\n0           Hotel  0.22\n1  Breakfast Spot  0.11\n2    Dance Studio  0.11\n3  Clothing Store  0.11\n4  Sandwich Place  0.11\n\n\n----Deer Park, Forest Hill SE, Rathnelly, South Hill, Summerhill West----\n          venue  freq\n0           Pub  0.12\n1   Coffee Shop  0.12\n2           Spa  0.06\n3  Liquor Store  0.06\n4    Sports Bar  0.06\n\n\n----Design Exchange, Toronto Dominion Centre----\n         venue  freq\n0  Coffee Shop  0.13\n1         Caf\u00e9  0.08\n2        Hotel  0.07\n3   Restaurant  0.05\n4          Bar  0.04\n\n\n----Dovercourt Village, Dufferin----\n         venue  freq\n0       Bakery  0.13\n1     Pharmacy  0.13\n2  Supermarket  0.13\n3         Park  0.07\n4          Bar  0.07\n\n\n----First Canadian Place, Underground city----\n         venue  freq\n0  Coffee Shop  0.09\n1         Caf\u00e9  0.07\n2   Restaurant  0.04\n3   Steakhouse  0.04\n4        Hotel  0.04\n\n\n----Forest Hill North, Forest Hill West----\n                        venue  freq\n0                       Trail  0.25\n1            Sushi Restaurant  0.25\n2               Jewelry Store  0.25\n3                        Park  0.25\n4  Modern European Restaurant  0.00\n\n\n----Harbord, University of Toronto----\n                 venue  freq\n0                 Caf\u00e9  0.13\n1            Bookstore  0.08\n2                  Bar  0.05\n3  Japanese Restaurant  0.05\n4   Italian Restaurant  0.05\n\n\n----Harbourfront----\n                venue  freq\n0         Coffee Shop  0.16\n1                Park  0.06\n2              Bakery  0.06\n3                 Pub  0.06\n4  Mexican Restaurant  0.04\n\n\n----Harbourfront East, Toronto Islands, Union Station----\n         venue  freq\n0  Coffee Shop  0.13\n1     Aquarium  0.05\n2        Hotel  0.05\n3         Caf\u00e9  0.04\n4      Brewery  0.03\n\n\n----High Park, The Junction South----\n                venue  freq\n0     Thai Restaurant  0.08\n1  Mexican Restaurant  0.08\n2                Caf\u00e9  0.08\n3                 Bar  0.08\n4           Speakeasy  0.04\n\n\n----Lawrence Park----\n                venue  freq\n0  Photography Studio  0.25\n1                Park  0.25\n2            Bus Line  0.25\n3         Swim School  0.25\n4   Afghan Restaurant  0.00\n\n\n----Little Portugal, Trinity----\n              venue  freq\n0               Bar  0.11\n1  Asian Restaurant  0.05\n2       Men's Store  0.05\n3        Restaurant  0.05\n4       Coffee Shop  0.05\n\n\n----Moore Park, Summerhill East----\n          venue  freq\n0  Intersection   0.2\n1    Playground   0.2\n2           Gym   0.2\n3  Tennis Court   0.2\n4   Summer Camp   0.2\n\n\n----North Toronto West----\n                 venue  freq\n0  Sporting Goods Shop  0.10\n1       Clothing Store  0.10\n2          Coffee Shop  0.10\n3          Yoga Studio  0.05\n4                Diner  0.05\n\n\n----Parkdale, Roncesvalles----\n            venue  freq\n0       Gift Shop  0.14\n1  Breakfast Spot  0.07\n2     Coffee Shop  0.07\n3            Bank  0.07\n4         Dog Run  0.07\n\n\n----Rosedale----\n                        venue  freq\n0                        Park  0.50\n1                       Trail  0.25\n2                  Playground  0.25\n3  Modern European Restaurant  0.00\n4                 Music Venue  0.00\n\n\n----Roselawn----\n                venue  freq\n0              Garden   0.5\n1         Music Venue   0.5\n2      Massage Studio   0.0\n3         Men's Store   0.0\n4  Mexican Restaurant   0.0\n\n\n----Runnymede, Swansea----\n                venue  freq\n0    Sushi Restaurant  0.08\n1                Caf\u00e9  0.08\n2         Coffee Shop  0.08\n3  Italian Restaurant  0.05\n4         Pizza Place  0.05\n\n\n----Ryerson, Garden District----\n                       venue  freq\n0                Coffee Shop  0.09\n1             Clothing Store  0.07\n2             Cosmetics Shop  0.04\n3  Middle Eastern Restaurant  0.03\n4       Fast Food Restaurant  0.03\n\n\n----St. James Town----\n            venue  freq\n0            Caf\u00e9  0.06\n1     Coffee Shop  0.06\n2      Restaurant  0.05\n3  Clothing Store  0.04\n4           Hotel  0.04\n\n\n----Stn A PO Boxes 25 The Esplanade----\n                venue  freq\n0         Coffee Shop  0.10\n1                Caf\u00e9  0.04\n2          Restaurant  0.04\n3               Hotel  0.03\n4  Seafood Restaurant  0.03\n\n\n----Studio District----\n                 venue  freq\n0                 Caf\u00e9  0.11\n1          Coffee Shop  0.08\n2   Italian Restaurant  0.05\n3  American Restaurant  0.05\n4               Bakery  0.05\n\n\n----The Annex, North Midtown, Yorkville----\n            venue  freq\n0  Sandwich Place  0.14\n1            Caf\u00e9  0.14\n2     Coffee Shop  0.10\n3  History Museum  0.05\n4       BBQ Joint  0.05\n\n\n----The Beaches----\n               venue  freq\n0              Trail   0.2\n1  Health Food Store   0.2\n2       Neighborhood   0.2\n3        Coffee Shop   0.2\n4                Pub   0.2\n\n\n----The Beaches West, India Bazaar----\n                venue  freq\n0         Pizza Place  0.06\n1  Italian Restaurant  0.06\n2   Fish & Chips Shop  0.06\n3        Burger Joint  0.06\n4       Burrito Place  0.06\n\n\n----The Danforth West, Riverdale----\n                    venue  freq\n0        Greek Restaurant  0.20\n1             Coffee Shop  0.10\n2          Ice Cream Shop  0.07\n3      Italian Restaurant  0.07\n4  Furniture / Home Store  0.05\n\n\n",
                    "name": "stdout"
                }
            ]
        },
        {
            "metadata": {},
            "cell_type": "markdown",
            "source": "#Neihborhood Common Venues"
        },
        {
            "metadata": {},
            "cell_type": "code",
            "source": "def return_most_common_venues(row, num_top_venues):\n    row_categories = row.iloc[1:]\n    row_categories_sorted = row_categories.sort_values(ascending=False)\n    \n    return row_categories_sorted.index.values[0:num_top_venues]",
            "execution_count": 40,
            "outputs": []
        },
        {
            "metadata": {},
            "cell_type": "markdown",
            "source": "Sort thr top Venues in the toronto neighborhood"
        },
        {
            "metadata": {},
            "cell_type": "code",
            "source": "num_top_venues = 10\n\nindicators = ['st', 'nd', 'rd']\n\n# create columns according to number of top venues\ncolumns = ['Places']\nfor ind in np.arange(num_top_venues):\n    try:\n        columns.append('{}{} Most Common Venue'.format(ind+1, indicators[ind]))\n    except:\n        columns.append('{}th Most Common Venue'.format(ind+1))\n\n# create a new dataframe\nToronto_neighborhoods_venues_sorted = pd.DataFrame(columns=columns)\nToronto_neighborhoods_venues_sorted['Places'] = toronto_grouped['Places']\n\nfor ind in np.arange(toronto_grouped.shape[0]):\n    Toronto_neighborhoods_venues_sorted.iloc[ind, 1:] = return_most_common_venues(toronto_grouped.iloc[ind, :], num_top_venues)\n\nToronto_neighborhoods_venues_sorted.head()",
            "execution_count": 41,
            "outputs": [
                {
                    "output_type": "execute_result",
                    "execution_count": 41,
                    "data": {
                        "text/plain": "                                              Places 1st Most Common Venue  \\\n0                           Adelaide, King, Richmond           Coffee Shop   \n1                                        Berczy Park           Coffee Shop   \n2       Brockton, Exhibition Place, Parkdale Village        Breakfast Spot   \n3  Business Reply Mail Processing Centre 969 Eastern           Yoga Studio   \n4  CN Tower, Bathurst Quay, Island airport, Harbo...       Airport Service   \n\n  2nd Most Common Venue 3rd Most Common Venue 4th Most Common Venue  \\\n0                  Caf\u00e9       Thai Restaurant            Steakhouse   \n1    Seafood Restaurant              Beer Bar                Bakery   \n2                  Caf\u00e9           Coffee Shop     Convenience Store   \n3         Auto Workshop            Comic Shop           Pizza Place   \n4        Airport Lounge      Airport Terminal       Harbor / Marina   \n\n  5th Most Common Venue 6th Most Common Venue 7th Most Common Venue  \\\n0           Salad Place      Asian Restaurant          Burger Joint   \n1            Steakhouse          Cocktail Bar           Cheese Shop   \n2    Italian Restaurant                   Bar               Stadium   \n3      Recording Studio            Restaurant         Burrito Place   \n4                   Bar                 Plane   Rental Car Location   \n\n  8th Most Common Venue 9th Most Common Venue 10th Most Common Venue  \n0            Restaurant                   Bar                 Bakery  \n1        Farmers Market                  Caf\u00e9    Japanese Restaurant  \n2                Bakery            Restaurant           Climbing Gym  \n3               Brewery            Skate Park             Smoke Shop  \n4      Sculpture Garden              Boutique          Boat or Ferry  ",
                        "text/html": "<div>\n<style scoped>\n    .dataframe tbody tr th:only-of-type {\n        vertical-align: middle;\n    }\n\n    .dataframe tbody tr th {\n        vertical-align: top;\n    }\n\n    .dataframe thead th {\n        text-align: right;\n    }\n</style>\n<table border=\"1\" class=\"dataframe\">\n  <thead>\n    <tr style=\"text-align: right;\">\n      <th></th>\n      <th>Places</th>\n      <th>1st Most Common Venue</th>\n      <th>2nd Most Common Venue</th>\n      <th>3rd Most Common Venue</th>\n      <th>4th Most Common Venue</th>\n      <th>5th Most Common Venue</th>\n      <th>6th Most Common Venue</th>\n      <th>7th Most Common Venue</th>\n      <th>8th Most Common Venue</th>\n      <th>9th Most Common Venue</th>\n      <th>10th Most Common Venue</th>\n    </tr>\n  </thead>\n  <tbody>\n    <tr>\n      <th>0</th>\n      <td>Adelaide, King, Richmond</td>\n      <td>Coffee Shop</td>\n      <td>Caf\u00e9</td>\n      <td>Thai Restaurant</td>\n      <td>Steakhouse</td>\n      <td>Salad Place</td>\n      <td>Asian Restaurant</td>\n      <td>Burger Joint</td>\n      <td>Restaurant</td>\n      <td>Bar</td>\n      <td>Bakery</td>\n    </tr>\n    <tr>\n      <th>1</th>\n      <td>Berczy Park</td>\n      <td>Coffee Shop</td>\n      <td>Seafood Restaurant</td>\n      <td>Beer Bar</td>\n      <td>Bakery</td>\n      <td>Steakhouse</td>\n      <td>Cocktail Bar</td>\n      <td>Cheese Shop</td>\n      <td>Farmers Market</td>\n      <td>Caf\u00e9</td>\n      <td>Japanese Restaurant</td>\n    </tr>\n    <tr>\n      <th>2</th>\n      <td>Brockton, Exhibition Place, Parkdale Village</td>\n      <td>Breakfast Spot</td>\n      <td>Caf\u00e9</td>\n      <td>Coffee Shop</td>\n      <td>Convenience Store</td>\n      <td>Italian Restaurant</td>\n      <td>Bar</td>\n      <td>Stadium</td>\n      <td>Bakery</td>\n      <td>Restaurant</td>\n      <td>Climbing Gym</td>\n    </tr>\n    <tr>\n      <th>3</th>\n      <td>Business Reply Mail Processing Centre 969 Eastern</td>\n      <td>Yoga Studio</td>\n      <td>Auto Workshop</td>\n      <td>Comic Shop</td>\n      <td>Pizza Place</td>\n      <td>Recording Studio</td>\n      <td>Restaurant</td>\n      <td>Burrito Place</td>\n      <td>Brewery</td>\n      <td>Skate Park</td>\n      <td>Smoke Shop</td>\n    </tr>\n    <tr>\n      <th>4</th>\n      <td>CN Tower, Bathurst Quay, Island airport, Harbo...</td>\n      <td>Airport Service</td>\n      <td>Airport Lounge</td>\n      <td>Airport Terminal</td>\n      <td>Harbor / Marina</td>\n      <td>Bar</td>\n      <td>Plane</td>\n      <td>Rental Car Location</td>\n      <td>Sculpture Garden</td>\n      <td>Boutique</td>\n      <td>Boat or Ferry</td>\n    </tr>\n  </tbody>\n</table>\n</div>"
                    },
                    "metadata": {}
                }
            ]
        },
        {
            "metadata": {},
            "cell_type": "code",
            "source": "",
            "execution_count": null,
            "outputs": []
        },
        {
            "metadata": {},
            "cell_type": "code",
            "source": "",
            "execution_count": null,
            "outputs": []
        },
        {
            "metadata": {},
            "cell_type": "markdown",
            "source": "Use Clustering to segment neighborhoods"
        },
        {
            "metadata": {},
            "cell_type": "code",
            "source": "# set number of clusters to 5 clusters\nkclusters = 5\n\ntoronto_grouped_clustering = toronto_grouped.drop('Places', 1)\n\n# run k-means clustering\nkmeans = KMeans(n_clusters=kclusters, random_state=0).fit(toronto_grouped_clustering)\n\n# check cluster labels generated for each row in the dataframe\nkmeans.labels_[0:10]\n\ntoronto_grouped_clustering.head()",
            "execution_count": 47,
            "outputs": [
                {
                    "output_type": "execute_result",
                    "execution_count": 47,
                    "data": {
                        "text/plain": "   Afghan Restaurant   Airport  Airport Food Court  Airport Gate  \\\n0                0.0  0.000000            0.000000      0.000000   \n1                0.0  0.000000            0.000000      0.000000   \n2                0.0  0.000000            0.000000      0.000000   \n3                0.0  0.000000            0.000000      0.000000   \n4                0.0  0.055556            0.055556      0.055556   \n\n   Airport Lounge  Airport Service  Airport Terminal  American Restaurant  \\\n0        0.000000         0.000000          0.000000                 0.02   \n1        0.000000         0.000000          0.000000                 0.00   \n2        0.000000         0.000000          0.000000                 0.00   \n3        0.000000         0.000000          0.000000                 0.00   \n4        0.111111         0.166667          0.111111                 0.00   \n\n   Antique Shop  Aquarium  ...  Thrift / Vintage Store  Toy / Game Store  \\\n0           0.0       0.0  ...                     0.0               0.0   \n1           0.0       0.0  ...                     0.0               0.0   \n2           0.0       0.0  ...                     0.0               0.0   \n3           0.0       0.0  ...                     0.0               0.0   \n4           0.0       0.0  ...                     0.0               0.0   \n\n   Trail  Train Station  Vegetarian / Vegan Restaurant  Video Game Store  \\\n0    0.0            0.0                       0.020000               0.0   \n1    0.0            0.0                       0.017857               0.0   \n2    0.0            0.0                       0.000000               0.0   \n3    0.0            0.0                       0.000000               0.0   \n4    0.0            0.0                       0.000000               0.0   \n\n   Vietnamese Restaurant  Wine Bar  Wings Joint  Yoga Studio  \n0                    0.0      0.01          0.0     0.000000  \n1                    0.0      0.00          0.0     0.000000  \n2                    0.0      0.00          0.0     0.000000  \n3                    0.0      0.00          0.0     0.058824  \n4                    0.0      0.00          0.0     0.000000  \n\n[5 rows x 240 columns]",
                        "text/html": "<div>\n<style scoped>\n    .dataframe tbody tr th:only-of-type {\n        vertical-align: middle;\n    }\n\n    .dataframe tbody tr th {\n        vertical-align: top;\n    }\n\n    .dataframe thead th {\n        text-align: right;\n    }\n</style>\n<table border=\"1\" class=\"dataframe\">\n  <thead>\n    <tr style=\"text-align: right;\">\n      <th></th>\n      <th>Afghan Restaurant</th>\n      <th>Airport</th>\n      <th>Airport Food Court</th>\n      <th>Airport Gate</th>\n      <th>Airport Lounge</th>\n      <th>Airport Service</th>\n      <th>Airport Terminal</th>\n      <th>American Restaurant</th>\n      <th>Antique Shop</th>\n      <th>Aquarium</th>\n      <th>...</th>\n      <th>Thrift / Vintage Store</th>\n      <th>Toy / Game Store</th>\n      <th>Trail</th>\n      <th>Train Station</th>\n      <th>Vegetarian / Vegan Restaurant</th>\n      <th>Video Game Store</th>\n      <th>Vietnamese Restaurant</th>\n      <th>Wine Bar</th>\n      <th>Wings Joint</th>\n      <th>Yoga Studio</th>\n    </tr>\n  </thead>\n  <tbody>\n    <tr>\n      <th>0</th>\n      <td>0.0</td>\n      <td>0.000000</td>\n      <td>0.000000</td>\n      <td>0.000000</td>\n      <td>0.000000</td>\n      <td>0.000000</td>\n      <td>0.000000</td>\n      <td>0.02</td>\n      <td>0.0</td>\n      <td>0.0</td>\n      <td>...</td>\n      <td>0.0</td>\n      <td>0.0</td>\n      <td>0.0</td>\n      <td>0.0</td>\n      <td>0.020000</td>\n      <td>0.0</td>\n      <td>0.0</td>\n      <td>0.01</td>\n      <td>0.0</td>\n      <td>0.000000</td>\n    </tr>\n    <tr>\n      <th>1</th>\n      <td>0.0</td>\n      <td>0.000000</td>\n      <td>0.000000</td>\n      <td>0.000000</td>\n      <td>0.000000</td>\n      <td>0.000000</td>\n      <td>0.000000</td>\n      <td>0.00</td>\n      <td>0.0</td>\n      <td>0.0</td>\n      <td>...</td>\n      <td>0.0</td>\n      <td>0.0</td>\n      <td>0.0</td>\n      <td>0.0</td>\n      <td>0.017857</td>\n      <td>0.0</td>\n      <td>0.0</td>\n      <td>0.00</td>\n      <td>0.0</td>\n      <td>0.000000</td>\n    </tr>\n    <tr>\n      <th>2</th>\n      <td>0.0</td>\n      <td>0.000000</td>\n      <td>0.000000</td>\n      <td>0.000000</td>\n      <td>0.000000</td>\n      <td>0.000000</td>\n      <td>0.000000</td>\n      <td>0.00</td>\n      <td>0.0</td>\n      <td>0.0</td>\n      <td>...</td>\n      <td>0.0</td>\n      <td>0.0</td>\n      <td>0.0</td>\n      <td>0.0</td>\n      <td>0.000000</td>\n      <td>0.0</td>\n      <td>0.0</td>\n      <td>0.00</td>\n      <td>0.0</td>\n      <td>0.000000</td>\n    </tr>\n    <tr>\n      <th>3</th>\n      <td>0.0</td>\n      <td>0.000000</td>\n      <td>0.000000</td>\n      <td>0.000000</td>\n      <td>0.000000</td>\n      <td>0.000000</td>\n      <td>0.000000</td>\n      <td>0.00</td>\n      <td>0.0</td>\n      <td>0.0</td>\n      <td>...</td>\n      <td>0.0</td>\n      <td>0.0</td>\n      <td>0.0</td>\n      <td>0.0</td>\n      <td>0.000000</td>\n      <td>0.0</td>\n      <td>0.0</td>\n      <td>0.00</td>\n      <td>0.0</td>\n      <td>0.058824</td>\n    </tr>\n    <tr>\n      <th>4</th>\n      <td>0.0</td>\n      <td>0.055556</td>\n      <td>0.055556</td>\n      <td>0.055556</td>\n      <td>0.111111</td>\n      <td>0.166667</td>\n      <td>0.111111</td>\n      <td>0.00</td>\n      <td>0.0</td>\n      <td>0.0</td>\n      <td>...</td>\n      <td>0.0</td>\n      <td>0.0</td>\n      <td>0.0</td>\n      <td>0.0</td>\n      <td>0.000000</td>\n      <td>0.0</td>\n      <td>0.0</td>\n      <td>0.00</td>\n      <td>0.0</td>\n      <td>0.000000</td>\n    </tr>\n  </tbody>\n</table>\n<p>5 rows \u00d7 240 columns</p>\n</div>"
                    },
                    "metadata": {}
                }
            ]
        },
        {
            "metadata": {},
            "cell_type": "code",
            "source": "toronto_new_df.head()",
            "execution_count": 59,
            "outputs": [
                {
                    "output_type": "execute_result",
                    "execution_count": 59,
                    "data": {
                        "text/plain": "  PostalCode      Borough                            Neighborhood   Latitude  \\\n0        M1B  Scarborough                          Rouge, Malvern  43.806686   \n1        M1C  Scarborough  Highland Creek, Rouge Hill, Port Union  43.784535   \n2        M1E  Scarborough       Guildwood, Morningside, West Hill  43.763573   \n3        M1G  Scarborough                                  Woburn  43.770992   \n4        M1H  Scarborough                               Cedarbrae  43.773136   \n\n   Longitude  \n0 -79.194353  \n1 -79.160497  \n2 -79.188711  \n3 -79.216917  \n4 -79.239476  ",
                        "text/html": "<div>\n<style scoped>\n    .dataframe tbody tr th:only-of-type {\n        vertical-align: middle;\n    }\n\n    .dataframe tbody tr th {\n        vertical-align: top;\n    }\n\n    .dataframe thead th {\n        text-align: right;\n    }\n</style>\n<table border=\"1\" class=\"dataframe\">\n  <thead>\n    <tr style=\"text-align: right;\">\n      <th></th>\n      <th>PostalCode</th>\n      <th>Borough</th>\n      <th>Neighborhood</th>\n      <th>Latitude</th>\n      <th>Longitude</th>\n    </tr>\n  </thead>\n  <tbody>\n    <tr>\n      <th>0</th>\n      <td>M1B</td>\n      <td>Scarborough</td>\n      <td>Rouge, Malvern</td>\n      <td>43.806686</td>\n      <td>-79.194353</td>\n    </tr>\n    <tr>\n      <th>1</th>\n      <td>M1C</td>\n      <td>Scarborough</td>\n      <td>Highland Creek, Rouge Hill, Port Union</td>\n      <td>43.784535</td>\n      <td>-79.160497</td>\n    </tr>\n    <tr>\n      <th>2</th>\n      <td>M1E</td>\n      <td>Scarborough</td>\n      <td>Guildwood, Morningside, West Hill</td>\n      <td>43.763573</td>\n      <td>-79.188711</td>\n    </tr>\n    <tr>\n      <th>3</th>\n      <td>M1G</td>\n      <td>Scarborough</td>\n      <td>Woburn</td>\n      <td>43.770992</td>\n      <td>-79.216917</td>\n    </tr>\n    <tr>\n      <th>4</th>\n      <td>M1H</td>\n      <td>Scarborough</td>\n      <td>Cedarbrae</td>\n      <td>43.773136</td>\n      <td>-79.239476</td>\n    </tr>\n  </tbody>\n</table>\n</div>"
                    },
                    "metadata": {}
                }
            ]
        },
        {
            "metadata": {},
            "cell_type": "code",
            "source": "Toronto_neighborhoods_venues_sorted.head(5)",
            "execution_count": 60,
            "outputs": [
                {
                    "output_type": "execute_result",
                    "execution_count": 60,
                    "data": {
                        "text/plain": "   Clusters Labels  Cluster Labels  \\\n0                0               0   \n1                0               0   \n2                0               0   \n3                0               0   \n4                0               0   \n\n                                              Places 1st Most Common Venue  \\\n0                           Adelaide, King, Richmond           Coffee Shop   \n1                                        Berczy Park           Coffee Shop   \n2       Brockton, Exhibition Place, Parkdale Village        Breakfast Spot   \n3  Business Reply Mail Processing Centre 969 Eastern           Yoga Studio   \n4  CN Tower, Bathurst Quay, Island airport, Harbo...       Airport Service   \n\n  2nd Most Common Venue 3rd Most Common Venue 4th Most Common Venue  \\\n0                  Caf\u00e9       Thai Restaurant            Steakhouse   \n1    Seafood Restaurant              Beer Bar                Bakery   \n2                  Caf\u00e9           Coffee Shop     Convenience Store   \n3         Auto Workshop            Comic Shop           Pizza Place   \n4        Airport Lounge      Airport Terminal       Harbor / Marina   \n\n  5th Most Common Venue 6th Most Common Venue 7th Most Common Venue  \\\n0           Salad Place      Asian Restaurant          Burger Joint   \n1            Steakhouse          Cocktail Bar           Cheese Shop   \n2    Italian Restaurant                   Bar               Stadium   \n3      Recording Studio            Restaurant         Burrito Place   \n4                   Bar                 Plane   Rental Car Location   \n\n  8th Most Common Venue 9th Most Common Venue 10th Most Common Venue  \n0            Restaurant                   Bar                 Bakery  \n1        Farmers Market                  Caf\u00e9    Japanese Restaurant  \n2                Bakery            Restaurant           Climbing Gym  \n3               Brewery            Skate Park             Smoke Shop  \n4      Sculpture Garden              Boutique          Boat or Ferry  ",
                        "text/html": "<div>\n<style scoped>\n    .dataframe tbody tr th:only-of-type {\n        vertical-align: middle;\n    }\n\n    .dataframe tbody tr th {\n        vertical-align: top;\n    }\n\n    .dataframe thead th {\n        text-align: right;\n    }\n</style>\n<table border=\"1\" class=\"dataframe\">\n  <thead>\n    <tr style=\"text-align: right;\">\n      <th></th>\n      <th>Clusters Labels</th>\n      <th>Cluster Labels</th>\n      <th>Places</th>\n      <th>1st Most Common Venue</th>\n      <th>2nd Most Common Venue</th>\n      <th>3rd Most Common Venue</th>\n      <th>4th Most Common Venue</th>\n      <th>5th Most Common Venue</th>\n      <th>6th Most Common Venue</th>\n      <th>7th Most Common Venue</th>\n      <th>8th Most Common Venue</th>\n      <th>9th Most Common Venue</th>\n      <th>10th Most Common Venue</th>\n    </tr>\n  </thead>\n  <tbody>\n    <tr>\n      <th>0</th>\n      <td>0</td>\n      <td>0</td>\n      <td>Adelaide, King, Richmond</td>\n      <td>Coffee Shop</td>\n      <td>Caf\u00e9</td>\n      <td>Thai Restaurant</td>\n      <td>Steakhouse</td>\n      <td>Salad Place</td>\n      <td>Asian Restaurant</td>\n      <td>Burger Joint</td>\n      <td>Restaurant</td>\n      <td>Bar</td>\n      <td>Bakery</td>\n    </tr>\n    <tr>\n      <th>1</th>\n      <td>0</td>\n      <td>0</td>\n      <td>Berczy Park</td>\n      <td>Coffee Shop</td>\n      <td>Seafood Restaurant</td>\n      <td>Beer Bar</td>\n      <td>Bakery</td>\n      <td>Steakhouse</td>\n      <td>Cocktail Bar</td>\n      <td>Cheese Shop</td>\n      <td>Farmers Market</td>\n      <td>Caf\u00e9</td>\n      <td>Japanese Restaurant</td>\n    </tr>\n    <tr>\n      <th>2</th>\n      <td>0</td>\n      <td>0</td>\n      <td>Brockton, Exhibition Place, Parkdale Village</td>\n      <td>Breakfast Spot</td>\n      <td>Caf\u00e9</td>\n      <td>Coffee Shop</td>\n      <td>Convenience Store</td>\n      <td>Italian Restaurant</td>\n      <td>Bar</td>\n      <td>Stadium</td>\n      <td>Bakery</td>\n      <td>Restaurant</td>\n      <td>Climbing Gym</td>\n    </tr>\n    <tr>\n      <th>3</th>\n      <td>0</td>\n      <td>0</td>\n      <td>Business Reply Mail Processing Centre 969 Eastern</td>\n      <td>Yoga Studio</td>\n      <td>Auto Workshop</td>\n      <td>Comic Shop</td>\n      <td>Pizza Place</td>\n      <td>Recording Studio</td>\n      <td>Restaurant</td>\n      <td>Burrito Place</td>\n      <td>Brewery</td>\n      <td>Skate Park</td>\n      <td>Smoke Shop</td>\n    </tr>\n    <tr>\n      <th>4</th>\n      <td>0</td>\n      <td>0</td>\n      <td>CN Tower, Bathurst Quay, Island airport, Harbo...</td>\n      <td>Airport Service</td>\n      <td>Airport Lounge</td>\n      <td>Airport Terminal</td>\n      <td>Harbor / Marina</td>\n      <td>Bar</td>\n      <td>Plane</td>\n      <td>Rental Car Location</td>\n      <td>Sculpture Garden</td>\n      <td>Boutique</td>\n      <td>Boat or Ferry</td>\n    </tr>\n  </tbody>\n</table>\n</div>"
                    },
                    "metadata": {}
                }
            ]
        },
        {
            "metadata": {},
            "cell_type": "code",
            "source": "toronto_new_df['Places'] = toronto_new_df['Neighborhood']",
            "execution_count": 61,
            "outputs": []
        },
        {
            "metadata": {},
            "cell_type": "code",
            "source": "del toronto_new_df['Neighborhood']",
            "execution_count": 63,
            "outputs": []
        },
        {
            "metadata": {},
            "cell_type": "code",
            "source": "toronto_new_df.head(5)",
            "execution_count": 64,
            "outputs": [
                {
                    "output_type": "execute_result",
                    "execution_count": 64,
                    "data": {
                        "text/plain": "  PostalCode      Borough   Latitude  Longitude  \\\n0        M1B  Scarborough  43.806686 -79.194353   \n1        M1C  Scarborough  43.784535 -79.160497   \n2        M1E  Scarborough  43.763573 -79.188711   \n3        M1G  Scarborough  43.770992 -79.216917   \n4        M1H  Scarborough  43.773136 -79.239476   \n\n                                   Places  \n0                          Rouge, Malvern  \n1  Highland Creek, Rouge Hill, Port Union  \n2       Guildwood, Morningside, West Hill  \n3                                  Woburn  \n4                               Cedarbrae  ",
                        "text/html": "<div>\n<style scoped>\n    .dataframe tbody tr th:only-of-type {\n        vertical-align: middle;\n    }\n\n    .dataframe tbody tr th {\n        vertical-align: top;\n    }\n\n    .dataframe thead th {\n        text-align: right;\n    }\n</style>\n<table border=\"1\" class=\"dataframe\">\n  <thead>\n    <tr style=\"text-align: right;\">\n      <th></th>\n      <th>PostalCode</th>\n      <th>Borough</th>\n      <th>Latitude</th>\n      <th>Longitude</th>\n      <th>Places</th>\n    </tr>\n  </thead>\n  <tbody>\n    <tr>\n      <th>0</th>\n      <td>M1B</td>\n      <td>Scarborough</td>\n      <td>43.806686</td>\n      <td>-79.194353</td>\n      <td>Rouge, Malvern</td>\n    </tr>\n    <tr>\n      <th>1</th>\n      <td>M1C</td>\n      <td>Scarborough</td>\n      <td>43.784535</td>\n      <td>-79.160497</td>\n      <td>Highland Creek, Rouge Hill, Port Union</td>\n    </tr>\n    <tr>\n      <th>2</th>\n      <td>M1E</td>\n      <td>Scarborough</td>\n      <td>43.763573</td>\n      <td>-79.188711</td>\n      <td>Guildwood, Morningside, West Hill</td>\n    </tr>\n    <tr>\n      <th>3</th>\n      <td>M1G</td>\n      <td>Scarborough</td>\n      <td>43.770992</td>\n      <td>-79.216917</td>\n      <td>Woburn</td>\n    </tr>\n    <tr>\n      <th>4</th>\n      <td>M1H</td>\n      <td>Scarborough</td>\n      <td>43.773136</td>\n      <td>-79.239476</td>\n      <td>Cedarbrae</td>\n    </tr>\n  </tbody>\n</table>\n</div>"
                    },
                    "metadata": {}
                }
            ]
        },
        {
            "metadata": {},
            "cell_type": "code",
            "source": "Toronto_neighborhoods_venues_sorted.head(5)",
            "execution_count": 72,
            "outputs": [
                {
                    "output_type": "execute_result",
                    "execution_count": 72,
                    "data": {
                        "text/plain": "                                              Places 1st Most Common Venue  \\\n0                           Adelaide, King, Richmond           Coffee Shop   \n1                                        Berczy Park           Coffee Shop   \n2       Brockton, Exhibition Place, Parkdale Village        Breakfast Spot   \n3  Business Reply Mail Processing Centre 969 Eastern           Yoga Studio   \n4  CN Tower, Bathurst Quay, Island airport, Harbo...       Airport Service   \n\n  2nd Most Common Venue 3rd Most Common Venue 4th Most Common Venue  \\\n0                  Caf\u00e9       Thai Restaurant            Steakhouse   \n1    Seafood Restaurant              Beer Bar                Bakery   \n2                  Caf\u00e9           Coffee Shop     Convenience Store   \n3         Auto Workshop            Comic Shop           Pizza Place   \n4        Airport Lounge      Airport Terminal       Harbor / Marina   \n\n  5th Most Common Venue 6th Most Common Venue 7th Most Common Venue  \\\n0           Salad Place      Asian Restaurant          Burger Joint   \n1            Steakhouse          Cocktail Bar           Cheese Shop   \n2    Italian Restaurant                   Bar               Stadium   \n3      Recording Studio            Restaurant         Burrito Place   \n4                   Bar                 Plane   Rental Car Location   \n\n  8th Most Common Venue 9th Most Common Venue 10th Most Common Venue  \n0            Restaurant                   Bar                 Bakery  \n1        Farmers Market                  Caf\u00e9    Japanese Restaurant  \n2                Bakery            Restaurant           Climbing Gym  \n3               Brewery            Skate Park             Smoke Shop  \n4      Sculpture Garden              Boutique          Boat or Ferry  ",
                        "text/html": "<div>\n<style scoped>\n    .dataframe tbody tr th:only-of-type {\n        vertical-align: middle;\n    }\n\n    .dataframe tbody tr th {\n        vertical-align: top;\n    }\n\n    .dataframe thead th {\n        text-align: right;\n    }\n</style>\n<table border=\"1\" class=\"dataframe\">\n  <thead>\n    <tr style=\"text-align: right;\">\n      <th></th>\n      <th>Places</th>\n      <th>1st Most Common Venue</th>\n      <th>2nd Most Common Venue</th>\n      <th>3rd Most Common Venue</th>\n      <th>4th Most Common Venue</th>\n      <th>5th Most Common Venue</th>\n      <th>6th Most Common Venue</th>\n      <th>7th Most Common Venue</th>\n      <th>8th Most Common Venue</th>\n      <th>9th Most Common Venue</th>\n      <th>10th Most Common Venue</th>\n    </tr>\n  </thead>\n  <tbody>\n    <tr>\n      <th>0</th>\n      <td>Adelaide, King, Richmond</td>\n      <td>Coffee Shop</td>\n      <td>Caf\u00e9</td>\n      <td>Thai Restaurant</td>\n      <td>Steakhouse</td>\n      <td>Salad Place</td>\n      <td>Asian Restaurant</td>\n      <td>Burger Joint</td>\n      <td>Restaurant</td>\n      <td>Bar</td>\n      <td>Bakery</td>\n    </tr>\n    <tr>\n      <th>1</th>\n      <td>Berczy Park</td>\n      <td>Coffee Shop</td>\n      <td>Seafood Restaurant</td>\n      <td>Beer Bar</td>\n      <td>Bakery</td>\n      <td>Steakhouse</td>\n      <td>Cocktail Bar</td>\n      <td>Cheese Shop</td>\n      <td>Farmers Market</td>\n      <td>Caf\u00e9</td>\n      <td>Japanese Restaurant</td>\n    </tr>\n    <tr>\n      <th>2</th>\n      <td>Brockton, Exhibition Place, Parkdale Village</td>\n      <td>Breakfast Spot</td>\n      <td>Caf\u00e9</td>\n      <td>Coffee Shop</td>\n      <td>Convenience Store</td>\n      <td>Italian Restaurant</td>\n      <td>Bar</td>\n      <td>Stadium</td>\n      <td>Bakery</td>\n      <td>Restaurant</td>\n      <td>Climbing Gym</td>\n    </tr>\n    <tr>\n      <th>3</th>\n      <td>Business Reply Mail Processing Centre 969 Eastern</td>\n      <td>Yoga Studio</td>\n      <td>Auto Workshop</td>\n      <td>Comic Shop</td>\n      <td>Pizza Place</td>\n      <td>Recording Studio</td>\n      <td>Restaurant</td>\n      <td>Burrito Place</td>\n      <td>Brewery</td>\n      <td>Skate Park</td>\n      <td>Smoke Shop</td>\n    </tr>\n    <tr>\n      <th>4</th>\n      <td>CN Tower, Bathurst Quay, Island airport, Harbo...</td>\n      <td>Airport Service</td>\n      <td>Airport Lounge</td>\n      <td>Airport Terminal</td>\n      <td>Harbor / Marina</td>\n      <td>Bar</td>\n      <td>Plane</td>\n      <td>Rental Car Location</td>\n      <td>Sculpture Garden</td>\n      <td>Boutique</td>\n      <td>Boat or Ferry</td>\n    </tr>\n  </tbody>\n</table>\n</div>"
                    },
                    "metadata": {}
                }
            ]
        },
        {
            "metadata": {},
            "cell_type": "code",
            "source": "del Toronto_neighborhoods_venues_sorted['Cluster Labels']",
            "execution_count": 76,
            "outputs": []
        },
        {
            "metadata": {},
            "cell_type": "code",
            "source": "# add clustering labels\nToronto_neighborhoods_venues_sorted.insert(0, 'Cluster Labels', kmeans.labels_)\n\ntoronto_merged = toronto_new_df",
            "execution_count": 77,
            "outputs": []
        },
        {
            "metadata": {
                "scrolled": false
            },
            "cell_type": "code",
            "source": "toronto_merged",
            "execution_count": 78,
            "outputs": [
                {
                    "output_type": "execute_result",
                    "execution_count": 78,
                    "data": {
                        "text/plain": "    PostalCode           Borough   Latitude  Longitude  \\\n0          M1B       Scarborough  43.806686 -79.194353   \n1          M1C       Scarborough  43.784535 -79.160497   \n2          M1E       Scarborough  43.763573 -79.188711   \n3          M1G       Scarborough  43.770992 -79.216917   \n4          M1H       Scarborough  43.773136 -79.239476   \n5          M1J       Scarborough  43.744734 -79.239476   \n6          M1K       Scarborough  43.727929 -79.262029   \n7          M1L       Scarborough  43.711112 -79.284577   \n8          M1M       Scarborough  43.716316 -79.239476   \n9          M1N       Scarborough  43.692657 -79.264848   \n10         M1P       Scarborough  43.757410 -79.273304   \n11         M1R       Scarborough  43.750072 -79.295849   \n12         M1S       Scarborough  43.794200 -79.262029   \n13         M1T       Scarborough  43.781638 -79.304302   \n14         M1V       Scarborough  43.815252 -79.284577   \n15         M1W       Scarborough  43.799525 -79.318389   \n16         M1X       Scarborough  43.836125 -79.205636   \n17         M2H        North York  43.803762 -79.363452   \n18         M2J        North York  43.778517 -79.346556   \n19         M2K        North York  43.786947 -79.385975   \n20         M2L        North York  43.757490 -79.374714   \n21         M2M        North York  43.789053 -79.408493   \n22         M2N        North York  43.770120 -79.408493   \n23         M2P        North York  43.752758 -79.400049   \n24         M2R        North York  43.782736 -79.442259   \n25         M3A        North York  43.753259 -79.329656   \n26         M3B        North York  43.745906 -79.352188   \n27         M3C        North York  43.725900 -79.340923   \n28         M3H        North York  43.754328 -79.442259   \n29         M3J        North York  43.767980 -79.487262   \n..         ...               ...        ...        ...   \n73         M6C              York  43.693781 -79.428191   \n74         M6E              York  43.689026 -79.453512   \n75         M6G  Downtown Toronto  43.669542 -79.422564   \n76         M6H      West Toronto  43.669005 -79.442259   \n77         M6J      West Toronto  43.647927 -79.419750   \n78         M6K      West Toronto  43.636847 -79.428191   \n79         M6L        North York  43.713756 -79.490074   \n80         M6M              York  43.691116 -79.476013   \n81         M6N              York  43.673185 -79.487262   \n82         M6P      West Toronto  43.661608 -79.464763   \n83         M6R      West Toronto  43.648960 -79.456325   \n84         M6S      West Toronto  43.651571 -79.484450   \n85         M7A      Queen's Park  43.662301 -79.389494   \n86         M7R       Mississauga  43.636966 -79.615819   \n87         M7Y      East Toronto  43.662744 -79.321558   \n88         M8V         Etobicoke  43.605647 -79.501321   \n89         M8W         Etobicoke  43.602414 -79.543484   \n90         M8X         Etobicoke  43.653654 -79.506944   \n91         M8Y         Etobicoke  43.636258 -79.498509   \n92         M8Z         Etobicoke  43.628841 -79.520999   \n93         M9A      Queen's Park  43.667856 -79.532242   \n94         M9B         Etobicoke  43.650943 -79.554724   \n95         M9C         Etobicoke  43.643515 -79.577201   \n96         M9L        North York  43.756303 -79.565963   \n97         M9M        North York  43.724766 -79.532242   \n98         M9N              York  43.706876 -79.518188   \n99         M9P         Etobicoke  43.696319 -79.532242   \n100        M9R         Etobicoke  43.688905 -79.554724   \n101        M9V         Etobicoke  43.739416 -79.588437   \n102        M9W         Etobicoke  43.706748 -79.594054   \n\n                                                Places  \n0                                       Rouge, Malvern  \n1               Highland Creek, Rouge Hill, Port Union  \n2                    Guildwood, Morningside, West Hill  \n3                                               Woburn  \n4                                            Cedarbrae  \n5                                  Scarborough Village  \n6          East Birchmount Park, Ionview, Kennedy Park  \n7                      Clairlea, Golden Mile, Oakridge  \n8      Cliffcrest, Cliffside, Scarborough Village West  \n9                          Birch Cliff, Cliffside West  \n10   Dorset Park, Scarborough Town Centre, Wexford ...  \n11                                   Maryvale, Wexford  \n12                                           Agincourt  \n13             Clarks Corners, Sullivan, Tam O'Shanter  \n14   Agincourt North, L'Amoreaux East, Milliken, St...  \n15                                     L'Amoreaux West  \n16                                         Upper Rouge  \n17                                   Hillcrest Village  \n18                        Fairview, Henry Farm, Oriole  \n19                                     Bayview Village  \n20                            Silver Hills, York Mills  \n21                             Newtonbrook, Willowdale  \n22                                    Willowdale South  \n23                                     York Mills West  \n24                                     Willowdale West  \n25                                           Parkwoods  \n26                                     Don Mills North  \n27                    Flemingdon Park, Don Mills South  \n28     Bathurst Manor, Downsview North, Wilson Heights  \n29                     Northwood Park, York University  \n..                                                 ...  \n73                                  Humewood-Cedarvale  \n74                                 Caledonia-Fairbanks  \n75                                            Christie  \n76                        Dovercourt Village, Dufferin  \n77                            Little Portugal, Trinity  \n78        Brockton, Exhibition Place, Parkdale Village  \n79                  Downsview, North Park, Upwood Park  \n80      Del Ray, Keelesdale, Mount Dennis, Silverthorn  \n81                       The Junction North, Runnymede  \n82                       High Park, The Junction South  \n83                              Parkdale, Roncesvalles  \n84                                  Runnymede, Swansea  \n85                                        Not assigned  \n86               Canada Post Gateway Processing Centre  \n87   Business Reply Mail Processing Centre 969 Eastern  \n88        Humber Bay Shores, Mimico South, New Toronto  \n89                              Alderwood, Long Branch  \n90       The Kingsway, Montgomery Road, Old Mill North  \n91   Humber Bay, King's Mill Park, Kingsway Park So...  \n92   Kingsway Park South West, Mimico NW, The Queen...  \n93                                        Queen's Park  \n94   Cloverdale, Islington, Martin Grove, Princess ...  \n95   Bloordale Gardens, Eringate, Markland Wood, Ol...  \n96                                       Humber Summit  \n97                                    Emery, Humberlea  \n98                                              Weston  \n99                                           Westmount  \n100  Kingsview Village, Martin Grove Gardens, Richv...  \n101  Albion Gardens, Beaumond Heights, Humbergate, ...  \n102                                          Northwest  \n\n[103 rows x 5 columns]",
                        "text/html": "<div>\n<style scoped>\n    .dataframe tbody tr th:only-of-type {\n        vertical-align: middle;\n    }\n\n    .dataframe tbody tr th {\n        vertical-align: top;\n    }\n\n    .dataframe thead th {\n        text-align: right;\n    }\n</style>\n<table border=\"1\" class=\"dataframe\">\n  <thead>\n    <tr style=\"text-align: right;\">\n      <th></th>\n      <th>PostalCode</th>\n      <th>Borough</th>\n      <th>Latitude</th>\n      <th>Longitude</th>\n      <th>Places</th>\n    </tr>\n  </thead>\n  <tbody>\n    <tr>\n      <th>0</th>\n      <td>M1B</td>\n      <td>Scarborough</td>\n      <td>43.806686</td>\n      <td>-79.194353</td>\n      <td>Rouge, Malvern</td>\n    </tr>\n    <tr>\n      <th>1</th>\n      <td>M1C</td>\n      <td>Scarborough</td>\n      <td>43.784535</td>\n      <td>-79.160497</td>\n      <td>Highland Creek, Rouge Hill, Port Union</td>\n    </tr>\n    <tr>\n      <th>2</th>\n      <td>M1E</td>\n      <td>Scarborough</td>\n      <td>43.763573</td>\n      <td>-79.188711</td>\n      <td>Guildwood, Morningside, West Hill</td>\n    </tr>\n    <tr>\n      <th>3</th>\n      <td>M1G</td>\n      <td>Scarborough</td>\n      <td>43.770992</td>\n      <td>-79.216917</td>\n      <td>Woburn</td>\n    </tr>\n    <tr>\n      <th>4</th>\n      <td>M1H</td>\n      <td>Scarborough</td>\n      <td>43.773136</td>\n      <td>-79.239476</td>\n      <td>Cedarbrae</td>\n    </tr>\n    <tr>\n      <th>5</th>\n      <td>M1J</td>\n      <td>Scarborough</td>\n      <td>43.744734</td>\n      <td>-79.239476</td>\n      <td>Scarborough Village</td>\n    </tr>\n    <tr>\n      <th>6</th>\n      <td>M1K</td>\n      <td>Scarborough</td>\n      <td>43.727929</td>\n      <td>-79.262029</td>\n      <td>East Birchmount Park, Ionview, Kennedy Park</td>\n    </tr>\n    <tr>\n      <th>7</th>\n      <td>M1L</td>\n      <td>Scarborough</td>\n      <td>43.711112</td>\n      <td>-79.284577</td>\n      <td>Clairlea, Golden Mile, Oakridge</td>\n    </tr>\n    <tr>\n      <th>8</th>\n      <td>M1M</td>\n      <td>Scarborough</td>\n      <td>43.716316</td>\n      <td>-79.239476</td>\n      <td>Cliffcrest, Cliffside, Scarborough Village West</td>\n    </tr>\n    <tr>\n      <th>9</th>\n      <td>M1N</td>\n      <td>Scarborough</td>\n      <td>43.692657</td>\n      <td>-79.264848</td>\n      <td>Birch Cliff, Cliffside West</td>\n    </tr>\n    <tr>\n      <th>10</th>\n      <td>M1P</td>\n      <td>Scarborough</td>\n      <td>43.757410</td>\n      <td>-79.273304</td>\n      <td>Dorset Park, Scarborough Town Centre, Wexford ...</td>\n    </tr>\n    <tr>\n      <th>11</th>\n      <td>M1R</td>\n      <td>Scarborough</td>\n      <td>43.750072</td>\n      <td>-79.295849</td>\n      <td>Maryvale, Wexford</td>\n    </tr>\n    <tr>\n      <th>12</th>\n      <td>M1S</td>\n      <td>Scarborough</td>\n      <td>43.794200</td>\n      <td>-79.262029</td>\n      <td>Agincourt</td>\n    </tr>\n    <tr>\n      <th>13</th>\n      <td>M1T</td>\n      <td>Scarborough</td>\n      <td>43.781638</td>\n      <td>-79.304302</td>\n      <td>Clarks Corners, Sullivan, Tam O'Shanter</td>\n    </tr>\n    <tr>\n      <th>14</th>\n      <td>M1V</td>\n      <td>Scarborough</td>\n      <td>43.815252</td>\n      <td>-79.284577</td>\n      <td>Agincourt North, L'Amoreaux East, Milliken, St...</td>\n    </tr>\n    <tr>\n      <th>15</th>\n      <td>M1W</td>\n      <td>Scarborough</td>\n      <td>43.799525</td>\n      <td>-79.318389</td>\n      <td>L'Amoreaux West</td>\n    </tr>\n    <tr>\n      <th>16</th>\n      <td>M1X</td>\n      <td>Scarborough</td>\n      <td>43.836125</td>\n      <td>-79.205636</td>\n      <td>Upper Rouge</td>\n    </tr>\n    <tr>\n      <th>17</th>\n      <td>M2H</td>\n      <td>North York</td>\n      <td>43.803762</td>\n      <td>-79.363452</td>\n      <td>Hillcrest Village</td>\n    </tr>\n    <tr>\n      <th>18</th>\n      <td>M2J</td>\n      <td>North York</td>\n      <td>43.778517</td>\n      <td>-79.346556</td>\n      <td>Fairview, Henry Farm, Oriole</td>\n    </tr>\n    <tr>\n      <th>19</th>\n      <td>M2K</td>\n      <td>North York</td>\n      <td>43.786947</td>\n      <td>-79.385975</td>\n      <td>Bayview Village</td>\n    </tr>\n    <tr>\n      <th>20</th>\n      <td>M2L</td>\n      <td>North York</td>\n      <td>43.757490</td>\n      <td>-79.374714</td>\n      <td>Silver Hills, York Mills</td>\n    </tr>\n    <tr>\n      <th>21</th>\n      <td>M2M</td>\n      <td>North York</td>\n      <td>43.789053</td>\n      <td>-79.408493</td>\n      <td>Newtonbrook, Willowdale</td>\n    </tr>\n    <tr>\n      <th>22</th>\n      <td>M2N</td>\n      <td>North York</td>\n      <td>43.770120</td>\n      <td>-79.408493</td>\n      <td>Willowdale South</td>\n    </tr>\n    <tr>\n      <th>23</th>\n      <td>M2P</td>\n      <td>North York</td>\n      <td>43.752758</td>\n      <td>-79.400049</td>\n      <td>York Mills West</td>\n    </tr>\n    <tr>\n      <th>24</th>\n      <td>M2R</td>\n      <td>North York</td>\n      <td>43.782736</td>\n      <td>-79.442259</td>\n      <td>Willowdale West</td>\n    </tr>\n    <tr>\n      <th>25</th>\n      <td>M3A</td>\n      <td>North York</td>\n      <td>43.753259</td>\n      <td>-79.329656</td>\n      <td>Parkwoods</td>\n    </tr>\n    <tr>\n      <th>26</th>\n      <td>M3B</td>\n      <td>North York</td>\n      <td>43.745906</td>\n      <td>-79.352188</td>\n      <td>Don Mills North</td>\n    </tr>\n    <tr>\n      <th>27</th>\n      <td>M3C</td>\n      <td>North York</td>\n      <td>43.725900</td>\n      <td>-79.340923</td>\n      <td>Flemingdon Park, Don Mills South</td>\n    </tr>\n    <tr>\n      <th>28</th>\n      <td>M3H</td>\n      <td>North York</td>\n      <td>43.754328</td>\n      <td>-79.442259</td>\n      <td>Bathurst Manor, Downsview North, Wilson Heights</td>\n    </tr>\n    <tr>\n      <th>29</th>\n      <td>M3J</td>\n      <td>North York</td>\n      <td>43.767980</td>\n      <td>-79.487262</td>\n      <td>Northwood Park, York University</td>\n    </tr>\n    <tr>\n      <th>...</th>\n      <td>...</td>\n      <td>...</td>\n      <td>...</td>\n      <td>...</td>\n      <td>...</td>\n    </tr>\n    <tr>\n      <th>73</th>\n      <td>M6C</td>\n      <td>York</td>\n      <td>43.693781</td>\n      <td>-79.428191</td>\n      <td>Humewood-Cedarvale</td>\n    </tr>\n    <tr>\n      <th>74</th>\n      <td>M6E</td>\n      <td>York</td>\n      <td>43.689026</td>\n      <td>-79.453512</td>\n      <td>Caledonia-Fairbanks</td>\n    </tr>\n    <tr>\n      <th>75</th>\n      <td>M6G</td>\n      <td>Downtown Toronto</td>\n      <td>43.669542</td>\n      <td>-79.422564</td>\n      <td>Christie</td>\n    </tr>\n    <tr>\n      <th>76</th>\n      <td>M6H</td>\n      <td>West Toronto</td>\n      <td>43.669005</td>\n      <td>-79.442259</td>\n      <td>Dovercourt Village, Dufferin</td>\n    </tr>\n    <tr>\n      <th>77</th>\n      <td>M6J</td>\n      <td>West Toronto</td>\n      <td>43.647927</td>\n      <td>-79.419750</td>\n      <td>Little Portugal, Trinity</td>\n    </tr>\n    <tr>\n      <th>78</th>\n      <td>M6K</td>\n      <td>West Toronto</td>\n      <td>43.636847</td>\n      <td>-79.428191</td>\n      <td>Brockton, Exhibition Place, Parkdale Village</td>\n    </tr>\n    <tr>\n      <th>79</th>\n      <td>M6L</td>\n      <td>North York</td>\n      <td>43.713756</td>\n      <td>-79.490074</td>\n      <td>Downsview, North Park, Upwood Park</td>\n    </tr>\n    <tr>\n      <th>80</th>\n      <td>M6M</td>\n      <td>York</td>\n      <td>43.691116</td>\n      <td>-79.476013</td>\n      <td>Del Ray, Keelesdale, Mount Dennis, Silverthorn</td>\n    </tr>\n    <tr>\n      <th>81</th>\n      <td>M6N</td>\n      <td>York</td>\n      <td>43.673185</td>\n      <td>-79.487262</td>\n      <td>The Junction North, Runnymede</td>\n    </tr>\n    <tr>\n      <th>82</th>\n      <td>M6P</td>\n      <td>West Toronto</td>\n      <td>43.661608</td>\n      <td>-79.464763</td>\n      <td>High Park, The Junction South</td>\n    </tr>\n    <tr>\n      <th>83</th>\n      <td>M6R</td>\n      <td>West Toronto</td>\n      <td>43.648960</td>\n      <td>-79.456325</td>\n      <td>Parkdale, Roncesvalles</td>\n    </tr>\n    <tr>\n      <th>84</th>\n      <td>M6S</td>\n      <td>West Toronto</td>\n      <td>43.651571</td>\n      <td>-79.484450</td>\n      <td>Runnymede, Swansea</td>\n    </tr>\n    <tr>\n      <th>85</th>\n      <td>M7A</td>\n      <td>Queen's Park</td>\n      <td>43.662301</td>\n      <td>-79.389494</td>\n      <td>Not assigned</td>\n    </tr>\n    <tr>\n      <th>86</th>\n      <td>M7R</td>\n      <td>Mississauga</td>\n      <td>43.636966</td>\n      <td>-79.615819</td>\n      <td>Canada Post Gateway Processing Centre</td>\n    </tr>\n    <tr>\n      <th>87</th>\n      <td>M7Y</td>\n      <td>East Toronto</td>\n      <td>43.662744</td>\n      <td>-79.321558</td>\n      <td>Business Reply Mail Processing Centre 969 Eastern</td>\n    </tr>\n    <tr>\n      <th>88</th>\n      <td>M8V</td>\n      <td>Etobicoke</td>\n      <td>43.605647</td>\n      <td>-79.501321</td>\n      <td>Humber Bay Shores, Mimico South, New Toronto</td>\n    </tr>\n    <tr>\n      <th>89</th>\n      <td>M8W</td>\n      <td>Etobicoke</td>\n      <td>43.602414</td>\n      <td>-79.543484</td>\n      <td>Alderwood, Long Branch</td>\n    </tr>\n    <tr>\n      <th>90</th>\n      <td>M8X</td>\n      <td>Etobicoke</td>\n      <td>43.653654</td>\n      <td>-79.506944</td>\n      <td>The Kingsway, Montgomery Road, Old Mill North</td>\n    </tr>\n    <tr>\n      <th>91</th>\n      <td>M8Y</td>\n      <td>Etobicoke</td>\n      <td>43.636258</td>\n      <td>-79.498509</td>\n      <td>Humber Bay, King's Mill Park, Kingsway Park So...</td>\n    </tr>\n    <tr>\n      <th>92</th>\n      <td>M8Z</td>\n      <td>Etobicoke</td>\n      <td>43.628841</td>\n      <td>-79.520999</td>\n      <td>Kingsway Park South West, Mimico NW, The Queen...</td>\n    </tr>\n    <tr>\n      <th>93</th>\n      <td>M9A</td>\n      <td>Queen's Park</td>\n      <td>43.667856</td>\n      <td>-79.532242</td>\n      <td>Queen's Park</td>\n    </tr>\n    <tr>\n      <th>94</th>\n      <td>M9B</td>\n      <td>Etobicoke</td>\n      <td>43.650943</td>\n      <td>-79.554724</td>\n      <td>Cloverdale, Islington, Martin Grove, Princess ...</td>\n    </tr>\n    <tr>\n      <th>95</th>\n      <td>M9C</td>\n      <td>Etobicoke</td>\n      <td>43.643515</td>\n      <td>-79.577201</td>\n      <td>Bloordale Gardens, Eringate, Markland Wood, Ol...</td>\n    </tr>\n    <tr>\n      <th>96</th>\n      <td>M9L</td>\n      <td>North York</td>\n      <td>43.756303</td>\n      <td>-79.565963</td>\n      <td>Humber Summit</td>\n    </tr>\n    <tr>\n      <th>97</th>\n      <td>M9M</td>\n      <td>North York</td>\n      <td>43.724766</td>\n      <td>-79.532242</td>\n      <td>Emery, Humberlea</td>\n    </tr>\n    <tr>\n      <th>98</th>\n      <td>M9N</td>\n      <td>York</td>\n      <td>43.706876</td>\n      <td>-79.518188</td>\n      <td>Weston</td>\n    </tr>\n    <tr>\n      <th>99</th>\n      <td>M9P</td>\n      <td>Etobicoke</td>\n      <td>43.696319</td>\n      <td>-79.532242</td>\n      <td>Westmount</td>\n    </tr>\n    <tr>\n      <th>100</th>\n      <td>M9R</td>\n      <td>Etobicoke</td>\n      <td>43.688905</td>\n      <td>-79.554724</td>\n      <td>Kingsview Village, Martin Grove Gardens, Richv...</td>\n    </tr>\n    <tr>\n      <th>101</th>\n      <td>M9V</td>\n      <td>Etobicoke</td>\n      <td>43.739416</td>\n      <td>-79.588437</td>\n      <td>Albion Gardens, Beaumond Heights, Humbergate, ...</td>\n    </tr>\n    <tr>\n      <th>102</th>\n      <td>M9W</td>\n      <td>Etobicoke</td>\n      <td>43.706748</td>\n      <td>-79.594054</td>\n      <td>Northwest</td>\n    </tr>\n  </tbody>\n</table>\n<p>103 rows \u00d7 5 columns</p>\n</div>"
                    },
                    "metadata": {}
                }
            ]
        },
        {
            "metadata": {},
            "cell_type": "markdown",
            "source": "Create a merged dataframe which contains the cluster lables and latitue and logitude"
        },
        {
            "metadata": {},
            "cell_type": "code",
            "source": "# merge toronto_grouped with toronto_data to add latitude/longitude for each neighborhood\ntoronto_merged_final = pd.merge(toronto_merged,Toronto_neighborhoods_venues_sorted, on='Places',how='inner')",
            "execution_count": 82,
            "outputs": []
        },
        {
            "metadata": {},
            "cell_type": "code",
            "source": "toronto_merged_final.head(5)",
            "execution_count": 85,
            "outputs": [
                {
                    "output_type": "execute_result",
                    "execution_count": 85,
                    "data": {
                        "text/plain": "  PostalCode          Borough   Latitude  Longitude  \\\n0        M4E     East Toronto  43.676357 -79.293031   \n1        M4K     East Toronto  43.679557 -79.352188   \n2        M4L     East Toronto  43.668999 -79.315572   \n3        M4M     East Toronto  43.659526 -79.340923   \n4        M4N  Central Toronto  43.728020 -79.388790   \n\n                           Places  Cluster Labels 1st Most Common Venue  \\\n0                     The Beaches               4          Neighborhood   \n1    The Danforth West, Riverdale               0      Greek Restaurant   \n2  The Beaches West, India Bazaar               0             Pet Store   \n3                 Studio District               0                  Caf\u00e9   \n4                   Lawrence Park               2    Photography Studio   \n\n  2nd Most Common Venue 3rd Most Common Venue 4th Most Common Venue  \\\n0                   Pub           Coffee Shop     Health Food Store   \n1           Coffee Shop    Italian Restaurant        Ice Cream Shop   \n2        Ice Cream Shop           Pizza Place         Movie Theater   \n3           Coffee Shop                Bakery    Italian Restaurant   \n4                  Park              Bus Line           Swim School   \n\n  5th Most Common Venue 6th Most Common Venue   7th Most Common Venue  \\\n0                 Trail    Dim Sum Restaurant                   Diner   \n1             Bookstore            Restaurant  Furniture / Home Store   \n2                   Pub        Sandwich Place           Burrito Place   \n3   American Restaurant           Yoga Studio       Convenience Store   \n4      Department Store  Ethiopian Restaurant       Electronics Store   \n\n         8th Most Common Venue 9th Most Common Venue 10th Most Common Venue  \n0               Discount Store               Dog Run       Doner Restaurant  \n1                  Yoga Studio          Dessert Shop        Bubble Tea Shop  \n2                 Burger Joint               Brewery           Liquor Store  \n3           Seafood Restaurant        Sandwich Place            Cheese Shop  \n4  Eastern European Restaurant   Dumpling Restaurant             Donut Shop  ",
                        "text/html": "<div>\n<style scoped>\n    .dataframe tbody tr th:only-of-type {\n        vertical-align: middle;\n    }\n\n    .dataframe tbody tr th {\n        vertical-align: top;\n    }\n\n    .dataframe thead th {\n        text-align: right;\n    }\n</style>\n<table border=\"1\" class=\"dataframe\">\n  <thead>\n    <tr style=\"text-align: right;\">\n      <th></th>\n      <th>PostalCode</th>\n      <th>Borough</th>\n      <th>Latitude</th>\n      <th>Longitude</th>\n      <th>Places</th>\n      <th>Cluster Labels</th>\n      <th>1st Most Common Venue</th>\n      <th>2nd Most Common Venue</th>\n      <th>3rd Most Common Venue</th>\n      <th>4th Most Common Venue</th>\n      <th>5th Most Common Venue</th>\n      <th>6th Most Common Venue</th>\n      <th>7th Most Common Venue</th>\n      <th>8th Most Common Venue</th>\n      <th>9th Most Common Venue</th>\n      <th>10th Most Common Venue</th>\n    </tr>\n  </thead>\n  <tbody>\n    <tr>\n      <th>0</th>\n      <td>M4E</td>\n      <td>East Toronto</td>\n      <td>43.676357</td>\n      <td>-79.293031</td>\n      <td>The Beaches</td>\n      <td>4</td>\n      <td>Neighborhood</td>\n      <td>Pub</td>\n      <td>Coffee Shop</td>\n      <td>Health Food Store</td>\n      <td>Trail</td>\n      <td>Dim Sum Restaurant</td>\n      <td>Diner</td>\n      <td>Discount Store</td>\n      <td>Dog Run</td>\n      <td>Doner Restaurant</td>\n    </tr>\n    <tr>\n      <th>1</th>\n      <td>M4K</td>\n      <td>East Toronto</td>\n      <td>43.679557</td>\n      <td>-79.352188</td>\n      <td>The Danforth West, Riverdale</td>\n      <td>0</td>\n      <td>Greek Restaurant</td>\n      <td>Coffee Shop</td>\n      <td>Italian Restaurant</td>\n      <td>Ice Cream Shop</td>\n      <td>Bookstore</td>\n      <td>Restaurant</td>\n      <td>Furniture / Home Store</td>\n      <td>Yoga Studio</td>\n      <td>Dessert Shop</td>\n      <td>Bubble Tea Shop</td>\n    </tr>\n    <tr>\n      <th>2</th>\n      <td>M4L</td>\n      <td>East Toronto</td>\n      <td>43.668999</td>\n      <td>-79.315572</td>\n      <td>The Beaches West, India Bazaar</td>\n      <td>0</td>\n      <td>Pet Store</td>\n      <td>Ice Cream Shop</td>\n      <td>Pizza Place</td>\n      <td>Movie Theater</td>\n      <td>Pub</td>\n      <td>Sandwich Place</td>\n      <td>Burrito Place</td>\n      <td>Burger Joint</td>\n      <td>Brewery</td>\n      <td>Liquor Store</td>\n    </tr>\n    <tr>\n      <th>3</th>\n      <td>M4M</td>\n      <td>East Toronto</td>\n      <td>43.659526</td>\n      <td>-79.340923</td>\n      <td>Studio District</td>\n      <td>0</td>\n      <td>Caf\u00e9</td>\n      <td>Coffee Shop</td>\n      <td>Bakery</td>\n      <td>Italian Restaurant</td>\n      <td>American Restaurant</td>\n      <td>Yoga Studio</td>\n      <td>Convenience Store</td>\n      <td>Seafood Restaurant</td>\n      <td>Sandwich Place</td>\n      <td>Cheese Shop</td>\n    </tr>\n    <tr>\n      <th>4</th>\n      <td>M4N</td>\n      <td>Central Toronto</td>\n      <td>43.728020</td>\n      <td>-79.388790</td>\n      <td>Lawrence Park</td>\n      <td>2</td>\n      <td>Photography Studio</td>\n      <td>Park</td>\n      <td>Bus Line</td>\n      <td>Swim School</td>\n      <td>Department Store</td>\n      <td>Ethiopian Restaurant</td>\n      <td>Electronics Store</td>\n      <td>Eastern European Restaurant</td>\n      <td>Dumpling Restaurant</td>\n      <td>Donut Shop</td>\n    </tr>\n  </tbody>\n</table>\n</div>"
                    },
                    "metadata": {}
                }
            ]
        },
        {
            "metadata": {
                "collapsed": true
            },
            "cell_type": "code",
            "source": "Count the cluster lables which has the maximum places in a given borough",
            "execution_count": null,
            "outputs": []
        },
        {
            "metadata": {},
            "cell_type": "code",
            "source": "toronto_merged_final['Cluster Labels'].value_counts()",
            "execution_count": 88,
            "outputs": [
                {
                    "output_type": "execute_result",
                    "execution_count": 88,
                    "data": {
                        "text/plain": "0    33\n1     2\n4     1\n3     1\n2     1\nName: Cluster Labels, dtype: int64"
                    },
                    "metadata": {}
                }
            ]
        },
        {
            "metadata": {},
            "cell_type": "markdown",
            "source": "# East toronoto brough is the area which has cluster 0 amd the maximum number of places in that bourough. Hence we can open a resutant in east toronto\nborough , given that it will attract more crowds"
        }
    ],
    "metadata": {
        "kernelspec": {
            "name": "python3",
            "display_name": "Python 3.6",
            "language": "python"
        },
        "language_info": {
            "name": "python",
            "version": "3.6.8",
            "mimetype": "text/x-python",
            "codemirror_mode": {
                "name": "ipython",
                "version": 3
            },
            "pygments_lexer": "ipython3",
            "nbconvert_exporter": "python",
            "file_extension": ".py"
        }
    },
    "nbformat": 4,
    "nbformat_minor": 1
}